{
  "nbformat": 4,
  "nbformat_minor": 0,
  "metadata": {
    "anaconda-cloud": {},
    "kernelspec": {
      "display_name": "Python 3",
      "language": "python",
      "name": "python3"
    },
    "language_info": {
      "codemirror_mode": {
        "name": "ipython",
        "version": 3
      },
      "file_extension": ".py",
      "mimetype": "text/x-python",
      "name": "python",
      "nbconvert_exporter": "python",
      "pygments_lexer": "ipython3",
      "version": "3.5.1"
    },
    "colab": {
      "name": "03.08-Aggregation-and-Grouping.ipynb",
      "provenance": []
    }
  },
  "cells": [
    {
      "cell_type": "markdown",
      "metadata": {
        "id": "br12rpFSi9MG"
      },
      "source": [
        "<!--BOOK_INFORMATION-->\n",
        "<img align=\"left\" style=\"padding-right:10px;\" src=\"https://github.com/jakevdp/PythonDataScienceHandbook/blob/master/notebooks/figures/PDSH-cover-small.png?raw=1\">\n",
        "\n",
        "*This notebook contains an excerpt from the [Python Data Science Handbook](http://shop.oreilly.com/product/0636920034919.do) by Jake VanderPlas; the content is available [on GitHub](https://github.com/jakevdp/PythonDataScienceHandbook).*\n",
        "\n",
        "*The text is released under the [CC-BY-NC-ND license](https://creativecommons.org/licenses/by-nc-nd/3.0/us/legalcode), and code is released under the [MIT license](https://opensource.org/licenses/MIT). If you find this content useful, please consider supporting the work by [buying the book](http://shop.oreilly.com/product/0636920034919.do)!*"
      ]
    },
    {
      "cell_type": "markdown",
      "metadata": {
        "id": "MlhR6rbwi9MQ"
      },
      "source": [
        "<!--NAVIGATION-->\n",
        "< [Combining Datasets: Merge and Join](03.07-Merge-and-Join.ipynb) | [Contents](Index.ipynb) | [Pivot Tables](03.09-Pivot-Tables.ipynb) >\n",
        "\n",
        "<a href=\"https://colab.research.google.com/github/jakevdp/PythonDataScienceHandbook/blob/master/notebooks/03.08-Aggregation-and-Grouping.ipynb\"><img align=\"left\" src=\"https://colab.research.google.com/assets/colab-badge.svg\" alt=\"Open in Colab\" title=\"Open and Execute in Google Colaboratory\"></a>\n"
      ]
    },
    {
      "cell_type": "markdown",
      "metadata": {
        "id": "_HTea-Vki9MT"
      },
      "source": [
        "# Aggregation and Grouping"
      ]
    },
    {
      "cell_type": "markdown",
      "metadata": {
        "collapsed": true,
        "id": "v9Vdg_8Mi9MV"
      },
      "source": [
        "An essential piece of analysis of large data is efficient summarization: computing aggregations like ``sum()``, ``mean()``, ``median()``, ``min()``, and ``max()``, in which a single number gives insight into the nature of a potentially large dataset.\n",
        "In this section, we'll explore aggregations in Pandas, from simple operations akin to what we've seen on NumPy arrays, to more sophisticated operations based on the concept of a ``groupby``."
      ]
    },
    {
      "cell_type": "markdown",
      "metadata": {
        "id": "QfHKuvvgi9MX"
      },
      "source": [
        "For convenience, we'll use the same ``display`` magic function that we've seen in previous sections:"
      ]
    },
    {
      "cell_type": "code",
      "metadata": {
        "collapsed": true,
        "id": "sQ68fMPqi9MY"
      },
      "source": [
        "import numpy as np\n",
        "import pandas as pd\n",
        "\n",
        "class display(object):\n",
        "    \"\"\"Display HTML representation of multiple objects\"\"\"\n",
        "    template = \"\"\"<div style=\"float: left; padding: 10px;\">\n",
        "    <p style='font-family:\"Courier New\", Courier, monospace'>{0}</p>{1}\n",
        "    </div>\"\"\"\n",
        "    def __init__(self, *args):\n",
        "        self.args = args\n",
        "        \n",
        "    def _repr_html_(self):\n",
        "        return '\\n'.join(self.template.format(a, eval(a)._repr_html_())\n",
        "                         for a in self.args)\n",
        "    \n",
        "    def __repr__(self):\n",
        "        return '\\n\\n'.join(a + '\\n' + repr(eval(a))\n",
        "                           for a in self.args)"
      ],
      "execution_count": null,
      "outputs": []
    },
    {
      "cell_type": "markdown",
      "metadata": {
        "id": "IsoyNpTai9Mc"
      },
      "source": [
        "## Planets Data\n",
        "\n",
        "Here we will use the Planets dataset, available via the [Seaborn package](http://seaborn.pydata.org/) (see [Visualization With Seaborn](04.14-Visualization-With-Seaborn.ipynb)).\n",
        "It gives information on planets that astronomers have discovered around other stars (known as *extrasolar planets* or *exoplanets* for short). It can be downloaded with a simple Seaborn command:"
      ]
    },
    {
      "cell_type": "code",
      "metadata": {
        "id": "_X4C4pUki9Mf",
        "outputId": "9b0d50be-24a0-4977-a796-63e6638af7e8"
      },
      "source": [
        "import seaborn as sns\n",
        "planets = sns.load_dataset('planets')\n",
        "planets.shape"
      ],
      "execution_count": null,
      "outputs": [
        {
          "data": {
            "text/plain": [
              "(1035, 6)"
            ]
          },
          "execution_count": 2,
          "metadata": {},
          "output_type": "execute_result"
        }
      ]
    },
    {
      "cell_type": "code",
      "metadata": {
        "id": "MfLLs8_Mi9Mk",
        "outputId": "5040b220-a412-44c2-ddd0-875d4947ec94"
      },
      "source": [
        "planets.head()"
      ],
      "execution_count": null,
      "outputs": [
        {
          "data": {
            "text/html": [
              "<div>\n",
              "<table border=\"1\" class=\"dataframe\">\n",
              "  <thead>\n",
              "    <tr style=\"text-align: right;\">\n",
              "      <th></th>\n",
              "      <th>method</th>\n",
              "      <th>number</th>\n",
              "      <th>orbital_period</th>\n",
              "      <th>mass</th>\n",
              "      <th>distance</th>\n",
              "      <th>year</th>\n",
              "    </tr>\n",
              "  </thead>\n",
              "  <tbody>\n",
              "    <tr>\n",
              "      <th>0</th>\n",
              "      <td>Radial Velocity</td>\n",
              "      <td>1</td>\n",
              "      <td>269.300</td>\n",
              "      <td>7.10</td>\n",
              "      <td>77.40</td>\n",
              "      <td>2006</td>\n",
              "    </tr>\n",
              "    <tr>\n",
              "      <th>1</th>\n",
              "      <td>Radial Velocity</td>\n",
              "      <td>1</td>\n",
              "      <td>874.774</td>\n",
              "      <td>2.21</td>\n",
              "      <td>56.95</td>\n",
              "      <td>2008</td>\n",
              "    </tr>\n",
              "    <tr>\n",
              "      <th>2</th>\n",
              "      <td>Radial Velocity</td>\n",
              "      <td>1</td>\n",
              "      <td>763.000</td>\n",
              "      <td>2.60</td>\n",
              "      <td>19.84</td>\n",
              "      <td>2011</td>\n",
              "    </tr>\n",
              "    <tr>\n",
              "      <th>3</th>\n",
              "      <td>Radial Velocity</td>\n",
              "      <td>1</td>\n",
              "      <td>326.030</td>\n",
              "      <td>19.40</td>\n",
              "      <td>110.62</td>\n",
              "      <td>2007</td>\n",
              "    </tr>\n",
              "    <tr>\n",
              "      <th>4</th>\n",
              "      <td>Radial Velocity</td>\n",
              "      <td>1</td>\n",
              "      <td>516.220</td>\n",
              "      <td>10.50</td>\n",
              "      <td>119.47</td>\n",
              "      <td>2009</td>\n",
              "    </tr>\n",
              "  </tbody>\n",
              "</table>\n",
              "</div>"
            ],
            "text/plain": [
              "            method  number  orbital_period   mass  distance  year\n",
              "0  Radial Velocity       1         269.300   7.10     77.40  2006\n",
              "1  Radial Velocity       1         874.774   2.21     56.95  2008\n",
              "2  Radial Velocity       1         763.000   2.60     19.84  2011\n",
              "3  Radial Velocity       1         326.030  19.40    110.62  2007\n",
              "4  Radial Velocity       1         516.220  10.50    119.47  2009"
            ]
          },
          "execution_count": 3,
          "metadata": {},
          "output_type": "execute_result"
        }
      ]
    },
    {
      "cell_type": "markdown",
      "metadata": {
        "id": "fWN-Pufai9Mo"
      },
      "source": [
        "This has some details on the 1,000+ extrasolar planets discovered up to 2014."
      ]
    },
    {
      "cell_type": "markdown",
      "metadata": {
        "id": "wGWNn9xXi9Mp"
      },
      "source": [
        "## Simple Aggregation in Pandas"
      ]
    },
    {
      "cell_type": "markdown",
      "metadata": {
        "id": "t3m0DKLFi9Mq"
      },
      "source": [
        "Earlier, we explored some of the data aggregations available for NumPy arrays ([\"Aggregations: Min, Max, and Everything In Between\"](02.04-Computation-on-arrays-aggregates.ipynb)).\n",
        "As with a one-dimensional NumPy array, for a Pandas ``Series`` the aggregates return a single value:"
      ]
    },
    {
      "cell_type": "code",
      "metadata": {
        "id": "WYs-gJ3Ei9Mr",
        "outputId": "262d1efe-30b0-4053-bc51-edb4999c5c02"
      },
      "source": [
        "rng = np.random.RandomState(42)\n",
        "ser = pd.Series(rng.rand(5))\n",
        "ser"
      ],
      "execution_count": null,
      "outputs": [
        {
          "data": {
            "text/plain": [
              "0    0.374540\n",
              "1    0.950714\n",
              "2    0.731994\n",
              "3    0.598658\n",
              "4    0.156019\n",
              "dtype: float64"
            ]
          },
          "execution_count": 4,
          "metadata": {},
          "output_type": "execute_result"
        }
      ]
    },
    {
      "cell_type": "code",
      "metadata": {
        "id": "EEwVYtR8i9Mt",
        "outputId": "b39aaee4-449e-43d2-e12f-5bd71db9bf8b"
      },
      "source": [
        "ser.sum()"
      ],
      "execution_count": null,
      "outputs": [
        {
          "data": {
            "text/plain": [
              "2.8119254917081569"
            ]
          },
          "execution_count": 5,
          "metadata": {},
          "output_type": "execute_result"
        }
      ]
    },
    {
      "cell_type": "code",
      "metadata": {
        "id": "DWs6rxs5i9Mu",
        "outputId": "2c6331d1-fcbd-4ca8-f8a7-445969a0f472"
      },
      "source": [
        "ser.mean()"
      ],
      "execution_count": null,
      "outputs": [
        {
          "data": {
            "text/plain": [
              "0.56238509834163142"
            ]
          },
          "execution_count": 6,
          "metadata": {},
          "output_type": "execute_result"
        }
      ]
    },
    {
      "cell_type": "markdown",
      "metadata": {
        "id": "mcG1OTP4i9Mv"
      },
      "source": [
        "For a ``DataFrame``, by default the aggregates return results within each column:"
      ]
    },
    {
      "cell_type": "code",
      "metadata": {
        "id": "EnxWTVRQi9Mv",
        "outputId": "4d00b535-a9fa-4a20-f988-00c444b01b03"
      },
      "source": [
        "df = pd.DataFrame({'A': rng.rand(5),\n",
        "                   'B': rng.rand(5)})\n",
        "df"
      ],
      "execution_count": null,
      "outputs": [
        {
          "data": {
            "text/html": [
              "<div>\n",
              "<table border=\"1\" class=\"dataframe\">\n",
              "  <thead>\n",
              "    <tr style=\"text-align: right;\">\n",
              "      <th></th>\n",
              "      <th>A</th>\n",
              "      <th>B</th>\n",
              "    </tr>\n",
              "  </thead>\n",
              "  <tbody>\n",
              "    <tr>\n",
              "      <th>0</th>\n",
              "      <td>0.155995</td>\n",
              "      <td>0.020584</td>\n",
              "    </tr>\n",
              "    <tr>\n",
              "      <th>1</th>\n",
              "      <td>0.058084</td>\n",
              "      <td>0.969910</td>\n",
              "    </tr>\n",
              "    <tr>\n",
              "      <th>2</th>\n",
              "      <td>0.866176</td>\n",
              "      <td>0.832443</td>\n",
              "    </tr>\n",
              "    <tr>\n",
              "      <th>3</th>\n",
              "      <td>0.601115</td>\n",
              "      <td>0.212339</td>\n",
              "    </tr>\n",
              "    <tr>\n",
              "      <th>4</th>\n",
              "      <td>0.708073</td>\n",
              "      <td>0.181825</td>\n",
              "    </tr>\n",
              "  </tbody>\n",
              "</table>\n",
              "</div>"
            ],
            "text/plain": [
              "          A         B\n",
              "0  0.155995  0.020584\n",
              "1  0.058084  0.969910\n",
              "2  0.866176  0.832443\n",
              "3  0.601115  0.212339\n",
              "4  0.708073  0.181825"
            ]
          },
          "execution_count": 7,
          "metadata": {},
          "output_type": "execute_result"
        }
      ]
    },
    {
      "cell_type": "code",
      "metadata": {
        "id": "BAz8FVFRi9Mx",
        "outputId": "b3cb2e6e-66cc-4c4d-bcce-c5fc20fd2849"
      },
      "source": [
        "df.mean()"
      ],
      "execution_count": null,
      "outputs": [
        {
          "data": {
            "text/plain": [
              "A    0.477888\n",
              "B    0.443420\n",
              "dtype: float64"
            ]
          },
          "execution_count": 8,
          "metadata": {},
          "output_type": "execute_result"
        }
      ]
    },
    {
      "cell_type": "markdown",
      "metadata": {
        "id": "TnPB02pMi9My"
      },
      "source": [
        "By specifying the ``axis`` argument, you can instead aggregate within each row:"
      ]
    },
    {
      "cell_type": "code",
      "metadata": {
        "id": "zmeLYuGPi9Mz",
        "outputId": "9af07783-82fb-4db4-e7af-64961b6deef4"
      },
      "source": [
        "df.mean(axis='columns')"
      ],
      "execution_count": null,
      "outputs": [
        {
          "data": {
            "text/plain": [
              "0    0.088290\n",
              "1    0.513997\n",
              "2    0.849309\n",
              "3    0.406727\n",
              "4    0.444949\n",
              "dtype: float64"
            ]
          },
          "execution_count": 9,
          "metadata": {},
          "output_type": "execute_result"
        }
      ]
    },
    {
      "cell_type": "markdown",
      "metadata": {
        "id": "H8c8Xrooi9M0"
      },
      "source": [
        "Pandas ``Series`` and ``DataFrame``s include all of the common aggregates mentioned in [Aggregations: Min, Max, and Everything In Between](02.04-Computation-on-arrays-aggregates.ipynb); in addition, there is a convenience method ``describe()`` that computes several common aggregates for each column and returns the result.\n",
        "Let's use this on the Planets data, for now dropping rows with missing values:"
      ]
    },
    {
      "cell_type": "code",
      "metadata": {
        "id": "rWi6rYdRi9M0",
        "outputId": "4191dcd0-b9fe-40e4-de2d-ff548632f49d"
      },
      "source": [
        "planets.dropna().describe()"
      ],
      "execution_count": null,
      "outputs": [
        {
          "data": {
            "text/html": [
              "<div>\n",
              "<table border=\"1\" class=\"dataframe\">\n",
              "  <thead>\n",
              "    <tr style=\"text-align: right;\">\n",
              "      <th></th>\n",
              "      <th>number</th>\n",
              "      <th>orbital_period</th>\n",
              "      <th>mass</th>\n",
              "      <th>distance</th>\n",
              "      <th>year</th>\n",
              "    </tr>\n",
              "  </thead>\n",
              "  <tbody>\n",
              "    <tr>\n",
              "      <th>count</th>\n",
              "      <td>498.00000</td>\n",
              "      <td>498.000000</td>\n",
              "      <td>498.000000</td>\n",
              "      <td>498.000000</td>\n",
              "      <td>498.000000</td>\n",
              "    </tr>\n",
              "    <tr>\n",
              "      <th>mean</th>\n",
              "      <td>1.73494</td>\n",
              "      <td>835.778671</td>\n",
              "      <td>2.509320</td>\n",
              "      <td>52.068213</td>\n",
              "      <td>2007.377510</td>\n",
              "    </tr>\n",
              "    <tr>\n",
              "      <th>std</th>\n",
              "      <td>1.17572</td>\n",
              "      <td>1469.128259</td>\n",
              "      <td>3.636274</td>\n",
              "      <td>46.596041</td>\n",
              "      <td>4.167284</td>\n",
              "    </tr>\n",
              "    <tr>\n",
              "      <th>min</th>\n",
              "      <td>1.00000</td>\n",
              "      <td>1.328300</td>\n",
              "      <td>0.003600</td>\n",
              "      <td>1.350000</td>\n",
              "      <td>1989.000000</td>\n",
              "    </tr>\n",
              "    <tr>\n",
              "      <th>25%</th>\n",
              "      <td>1.00000</td>\n",
              "      <td>38.272250</td>\n",
              "      <td>0.212500</td>\n",
              "      <td>24.497500</td>\n",
              "      <td>2005.000000</td>\n",
              "    </tr>\n",
              "    <tr>\n",
              "      <th>50%</th>\n",
              "      <td>1.00000</td>\n",
              "      <td>357.000000</td>\n",
              "      <td>1.245000</td>\n",
              "      <td>39.940000</td>\n",
              "      <td>2009.000000</td>\n",
              "    </tr>\n",
              "    <tr>\n",
              "      <th>75%</th>\n",
              "      <td>2.00000</td>\n",
              "      <td>999.600000</td>\n",
              "      <td>2.867500</td>\n",
              "      <td>59.332500</td>\n",
              "      <td>2011.000000</td>\n",
              "    </tr>\n",
              "    <tr>\n",
              "      <th>max</th>\n",
              "      <td>6.00000</td>\n",
              "      <td>17337.500000</td>\n",
              "      <td>25.000000</td>\n",
              "      <td>354.000000</td>\n",
              "      <td>2014.000000</td>\n",
              "    </tr>\n",
              "  </tbody>\n",
              "</table>\n",
              "</div>"
            ],
            "text/plain": [
              "          number  orbital_period        mass    distance         year\n",
              "count  498.00000      498.000000  498.000000  498.000000   498.000000\n",
              "mean     1.73494      835.778671    2.509320   52.068213  2007.377510\n",
              "std      1.17572     1469.128259    3.636274   46.596041     4.167284\n",
              "min      1.00000        1.328300    0.003600    1.350000  1989.000000\n",
              "25%      1.00000       38.272250    0.212500   24.497500  2005.000000\n",
              "50%      1.00000      357.000000    1.245000   39.940000  2009.000000\n",
              "75%      2.00000      999.600000    2.867500   59.332500  2011.000000\n",
              "max      6.00000    17337.500000   25.000000  354.000000  2014.000000"
            ]
          },
          "execution_count": 10,
          "metadata": {},
          "output_type": "execute_result"
        }
      ]
    },
    {
      "cell_type": "markdown",
      "metadata": {
        "id": "CulgeOFai9M2"
      },
      "source": [
        "This can be a useful way to begin understanding the overall properties of a dataset.\n",
        "For example, we see in the ``year`` column that although exoplanets were discovered as far back as 1989, half of all known expolanets were not discovered until 2010 or after.\n",
        "This is largely thanks to the *Kepler* mission, which is a space-based telescope specifically designed for finding eclipsing planets around other stars."
      ]
    },
    {
      "cell_type": "markdown",
      "metadata": {
        "id": "TqoRJnJ-i9M5"
      },
      "source": [
        "The following table summarizes some other built-in Pandas aggregations:\n",
        "\n",
        "| Aggregation              | Description                     |\n",
        "|--------------------------|---------------------------------|\n",
        "| ``count()``              | Total number of items           |\n",
        "| ``first()``, ``last()``  | First and last item             |\n",
        "| ``mean()``, ``median()`` | Mean and median                 |\n",
        "| ``min()``, ``max()``     | Minimum and maximum             |\n",
        "| ``std()``, ``var()``     | Standard deviation and variance |\n",
        "| ``mad()``                | Mean absolute deviation         |\n",
        "| ``prod()``               | Product of all items            |\n",
        "| ``sum()``                | Sum of all items                |\n",
        "\n",
        "These are all methods of ``DataFrame`` and ``Series`` objects."
      ]
    },
    {
      "cell_type": "markdown",
      "metadata": {
        "id": "Vjb2dce9i9M6"
      },
      "source": [
        "To go deeper into the data, however, simple aggregates are often not enough.\n",
        "The next level of data summarization is the ``groupby`` operation, which allows you to quickly and efficiently compute aggregates on subsets of data."
      ]
    },
    {
      "cell_type": "markdown",
      "metadata": {
        "id": "Nmmma8ybi9M7"
      },
      "source": [
        "## GroupBy: Split, Apply, Combine\n",
        "\n",
        "Simple aggregations can give you a flavor of your dataset, but often we would prefer to aggregate conditionally on some label or index: this is implemented in the so-called ``groupby`` operation.\n",
        "The name \"group by\" comes from a command in the SQL database language, but it is perhaps more illuminative to think of it in the terms first coined by Hadley Wickham of Rstats fame: *split, apply, combine*."
      ]
    },
    {
      "cell_type": "markdown",
      "metadata": {
        "id": "Z92FLohvi9M8"
      },
      "source": [
        "### Split, apply, combine\n",
        "\n",
        "A canonical example of this split-apply-combine operation, where the \"apply\" is a summation aggregation, is illustrated in this figure:"
      ]
    },
    {
      "cell_type": "markdown",
      "metadata": {
        "id": "qzW_zWwXi9M8"
      },
      "source": [
        "![](https://github.com/jakevdp/PythonDataScienceHandbook/blob/master/notebooks/figures/03.08-split-apply-combine.png?raw=1)\n",
        "[figure source in Appendix](06.00-Figure-Code.ipynb#Split-Apply-Combine)"
      ]
    },
    {
      "cell_type": "markdown",
      "metadata": {
        "id": "YGlAm3Dki9M9"
      },
      "source": [
        "This makes clear what the ``groupby`` accomplishes:\n",
        "\n",
        "- The *split* step involves breaking up and grouping a ``DataFrame`` depending on the value of the specified key.\n",
        "- The *apply* step involves computing some function, usually an aggregate, transformation, or filtering, within the individual groups.\n",
        "- The *combine* step merges the results of these operations into an output array.\n",
        "\n",
        "While this could certainly be done manually using some combination of the masking, aggregation, and merging commands covered earlier, an important realization is that *the intermediate splits do not need to be explicitly instantiated*. Rather, the ``GroupBy`` can (often) do this in a single pass over the data, updating the sum, mean, count, min, or other aggregate for each group along the way.\n",
        "The power of the ``GroupBy`` is that it abstracts away these steps: the user need not think about *how* the computation is done under the hood, but rather thinks about the *operation as a whole*.\n",
        "\n",
        "As a concrete example, let's take a look at using Pandas for the computation shown in this diagram.\n",
        "We'll start by creating the input ``DataFrame``:"
      ]
    },
    {
      "cell_type": "code",
      "metadata": {
        "id": "7_FZkZaAi9M-",
        "outputId": "57adfd51-c1e2-4dd7-d0ee-60146bc55a82"
      },
      "source": [
        "df = pd.DataFrame({'key': ['A', 'B', 'C', 'A', 'B', 'C'],\n",
        "                   'data': range(6)}, columns=['key', 'data'])\n",
        "df"
      ],
      "execution_count": null,
      "outputs": [
        {
          "data": {
            "text/html": [
              "<div>\n",
              "<table border=\"1\" class=\"dataframe\">\n",
              "  <thead>\n",
              "    <tr style=\"text-align: right;\">\n",
              "      <th></th>\n",
              "      <th>key</th>\n",
              "      <th>data</th>\n",
              "    </tr>\n",
              "  </thead>\n",
              "  <tbody>\n",
              "    <tr>\n",
              "      <th>0</th>\n",
              "      <td>A</td>\n",
              "      <td>0</td>\n",
              "    </tr>\n",
              "    <tr>\n",
              "      <th>1</th>\n",
              "      <td>B</td>\n",
              "      <td>1</td>\n",
              "    </tr>\n",
              "    <tr>\n",
              "      <th>2</th>\n",
              "      <td>C</td>\n",
              "      <td>2</td>\n",
              "    </tr>\n",
              "    <tr>\n",
              "      <th>3</th>\n",
              "      <td>A</td>\n",
              "      <td>3</td>\n",
              "    </tr>\n",
              "    <tr>\n",
              "      <th>4</th>\n",
              "      <td>B</td>\n",
              "      <td>4</td>\n",
              "    </tr>\n",
              "    <tr>\n",
              "      <th>5</th>\n",
              "      <td>C</td>\n",
              "      <td>5</td>\n",
              "    </tr>\n",
              "  </tbody>\n",
              "</table>\n",
              "</div>"
            ],
            "text/plain": [
              "  key  data\n",
              "0   A     0\n",
              "1   B     1\n",
              "2   C     2\n",
              "3   A     3\n",
              "4   B     4\n",
              "5   C     5"
            ]
          },
          "execution_count": 11,
          "metadata": {},
          "output_type": "execute_result"
        }
      ]
    },
    {
      "cell_type": "markdown",
      "metadata": {
        "id": "Tz8e4SMVi9NA"
      },
      "source": [
        "The most basic split-apply-combine operation can be computed with the ``groupby()`` method of ``DataFrame``s, passing the name of the desired key column:"
      ]
    },
    {
      "cell_type": "code",
      "metadata": {
        "id": "vZSca636i9NA",
        "outputId": "a3b46e69-a4ff-4e95-ebd3-96a457116c64"
      },
      "source": [
        "df.groupby('key')"
      ],
      "execution_count": null,
      "outputs": [
        {
          "data": {
            "text/plain": [
              "<pandas.core.groupby.DataFrameGroupBy object at 0x117272160>"
            ]
          },
          "execution_count": 12,
          "metadata": {},
          "output_type": "execute_result"
        }
      ]
    },
    {
      "cell_type": "markdown",
      "metadata": {
        "id": "FK-gYYwRi9NB"
      },
      "source": [
        "Notice that what is returned is not a set of ``DataFrame``s, but a ``DataFrameGroupBy`` object.\n",
        "This object is where the magic is: you can think of it as a special view of the ``DataFrame``, which is poised to dig into the groups but does no actual computation until the aggregation is applied.\n",
        "This \"lazy evaluation\" approach means that common aggregates can be implemented very efficiently in a way that is almost transparent to the user.\n",
        "\n",
        "To produce a result, we can apply an aggregate to this ``DataFrameGroupBy`` object, which will perform the appropriate apply/combine steps to produce the desired result:"
      ]
    },
    {
      "cell_type": "code",
      "metadata": {
        "id": "bD4JmPP9i9NC",
        "outputId": "8bc03f2e-6830-4b1f-d7af-be20bfec01fb"
      },
      "source": [
        "df.groupby('key').sum()"
      ],
      "execution_count": null,
      "outputs": [
        {
          "data": {
            "text/html": [
              "<div>\n",
              "<table border=\"1\" class=\"dataframe\">\n",
              "  <thead>\n",
              "    <tr style=\"text-align: right;\">\n",
              "      <th></th>\n",
              "      <th>data</th>\n",
              "    </tr>\n",
              "    <tr>\n",
              "      <th>key</th>\n",
              "      <th></th>\n",
              "    </tr>\n",
              "  </thead>\n",
              "  <tbody>\n",
              "    <tr>\n",
              "      <th>A</th>\n",
              "      <td>3</td>\n",
              "    </tr>\n",
              "    <tr>\n",
              "      <th>B</th>\n",
              "      <td>5</td>\n",
              "    </tr>\n",
              "    <tr>\n",
              "      <th>C</th>\n",
              "      <td>7</td>\n",
              "    </tr>\n",
              "  </tbody>\n",
              "</table>\n",
              "</div>"
            ],
            "text/plain": [
              "     data\n",
              "key      \n",
              "A       3\n",
              "B       5\n",
              "C       7"
            ]
          },
          "execution_count": 13,
          "metadata": {},
          "output_type": "execute_result"
        }
      ]
    },
    {
      "cell_type": "markdown",
      "metadata": {
        "id": "g84MfLr5i9ND"
      },
      "source": [
        "The ``sum()`` method is just one possibility here; you can apply virtually any common Pandas or NumPy aggregation function, as well as virtually any valid ``DataFrame`` operation, as we will see in the following discussion."
      ]
    },
    {
      "cell_type": "markdown",
      "metadata": {
        "id": "0w8P0zJBi9ND"
      },
      "source": [
        "### The GroupBy object\n",
        "\n",
        "The ``GroupBy`` object is a very flexible abstraction.\n",
        "In many ways, you can simply treat it as if it's a collection of ``DataFrame``s, and it does the difficult things under the hood. Let's see some examples using the Planets data.\n",
        "\n",
        "Perhaps the most important operations made available by a ``GroupBy`` are *aggregate*, *filter*, *transform*, and *apply*.\n",
        "We'll discuss each of these more fully in [\"Aggregate, Filter, Transform, Apply\"](#Aggregate,-Filter,-Transform,-Apply), but before that let's introduce some of the other functionality that can be used with the basic ``GroupBy`` operation."
      ]
    },
    {
      "cell_type": "markdown",
      "metadata": {
        "id": "vwiula5ii9ND"
      },
      "source": [
        "#### Column indexing\n",
        "\n",
        "The ``GroupBy`` object supports column indexing in the same way as the ``DataFrame``, and returns a modified ``GroupBy`` object.\n",
        "For example:"
      ]
    },
    {
      "cell_type": "code",
      "metadata": {
        "id": "PGhlS6dMi9NE",
        "outputId": "3e4ba59a-d972-4cda-8b26-081abb82483a"
      },
      "source": [
        "planets.groupby('method')"
      ],
      "execution_count": null,
      "outputs": [
        {
          "data": {
            "text/plain": [
              "<pandas.core.groupby.DataFrameGroupBy object at 0x1172727b8>"
            ]
          },
          "execution_count": 14,
          "metadata": {},
          "output_type": "execute_result"
        }
      ]
    },
    {
      "cell_type": "code",
      "metadata": {
        "id": "G1SjUN4Wi9NE",
        "outputId": "d08d33bf-9d39-4f7f-e191-28f182158f54"
      },
      "source": [
        "planets.groupby('method')['orbital_period']"
      ],
      "execution_count": null,
      "outputs": [
        {
          "data": {
            "text/plain": [
              "<pandas.core.groupby.SeriesGroupBy object at 0x117272da0>"
            ]
          },
          "execution_count": 15,
          "metadata": {},
          "output_type": "execute_result"
        }
      ]
    },
    {
      "cell_type": "markdown",
      "metadata": {
        "id": "Udlv9F0Vi9NF"
      },
      "source": [
        "Here we've selected a particular ``Series`` group from the original ``DataFrame`` group by reference to its column name.\n",
        "As with the ``GroupBy`` object, no computation is done until we call some aggregate on the object:"
      ]
    },
    {
      "cell_type": "code",
      "metadata": {
        "id": "Xuh4yX1Oi9NF",
        "outputId": "9486bb81-2b1a-4f85-b552-cfa93b321c05"
      },
      "source": [
        "planets.groupby('method')['orbital_period'].median()"
      ],
      "execution_count": null,
      "outputs": [
        {
          "data": {
            "text/plain": [
              "method\n",
              "Astrometry                         631.180000\n",
              "Eclipse Timing Variations         4343.500000\n",
              "Imaging                          27500.000000\n",
              "Microlensing                      3300.000000\n",
              "Orbital Brightness Modulation        0.342887\n",
              "Pulsar Timing                       66.541900\n",
              "Pulsation Timing Variations       1170.000000\n",
              "Radial Velocity                    360.200000\n",
              "Transit                              5.714932\n",
              "Transit Timing Variations           57.011000\n",
              "Name: orbital_period, dtype: float64"
            ]
          },
          "execution_count": 16,
          "metadata": {},
          "output_type": "execute_result"
        }
      ]
    },
    {
      "cell_type": "markdown",
      "metadata": {
        "id": "YDU5dB88i9NG"
      },
      "source": [
        "This gives an idea of the general scale of orbital periods (in days) that each method is sensitive to."
      ]
    },
    {
      "cell_type": "markdown",
      "metadata": {
        "id": "wi0VgiOzi9NG"
      },
      "source": [
        "#### Iteration over groups\n",
        "\n",
        "The ``GroupBy`` object supports direct iteration over the groups, returning each group as a ``Series`` or ``DataFrame``:"
      ]
    },
    {
      "cell_type": "code",
      "metadata": {
        "id": "lnqHnHUDi9NH",
        "outputId": "52654fb4-cf62-4f03-c418-147b49a41795"
      },
      "source": [
        "for (method, group) in planets.groupby('method'):\n",
        "    print(\"{0:30s} shape={1}\".format(method, group.shape))"
      ],
      "execution_count": null,
      "outputs": [
        {
          "name": "stdout",
          "output_type": "stream",
          "text": [
            "Astrometry                     shape=(2, 6)\n",
            "Eclipse Timing Variations      shape=(9, 6)\n",
            "Imaging                        shape=(38, 6)\n",
            "Microlensing                   shape=(23, 6)\n",
            "Orbital Brightness Modulation  shape=(3, 6)\n",
            "Pulsar Timing                  shape=(5, 6)\n",
            "Pulsation Timing Variations    shape=(1, 6)\n",
            "Radial Velocity                shape=(553, 6)\n",
            "Transit                        shape=(397, 6)\n",
            "Transit Timing Variations      shape=(4, 6)\n"
          ]
        }
      ]
    },
    {
      "cell_type": "markdown",
      "metadata": {
        "id": "0E78n8bFi9NH"
      },
      "source": [
        "This can be useful for doing certain things manually, though it is often much faster to use the built-in ``apply`` functionality, which we will discuss momentarily."
      ]
    },
    {
      "cell_type": "markdown",
      "metadata": {
        "id": "gnobeN6pi9NH"
      },
      "source": [
        "#### Dispatch methods\n",
        "\n",
        "Through some Python class magic, any method not explicitly implemented by the ``GroupBy`` object will be passed through and called on the groups, whether they are ``DataFrame`` or ``Series`` objects.\n",
        "For example, you can use the ``describe()`` method of ``DataFrame``s to perform a set of aggregations that describe each group in the data:"
      ]
    },
    {
      "cell_type": "code",
      "metadata": {
        "id": "FTSITvLdi9NH",
        "outputId": "c9c3b1af-a358-46cc-8d50-e0a41b4d7819"
      },
      "source": [
        "planets.groupby('method')['year'].describe().unstack()"
      ],
      "execution_count": null,
      "outputs": [
        {
          "data": {
            "text/html": [
              "<div>\n",
              "<table border=\"1\" class=\"dataframe\">\n",
              "  <thead>\n",
              "    <tr style=\"text-align: right;\">\n",
              "      <th></th>\n",
              "      <th>count</th>\n",
              "      <th>mean</th>\n",
              "      <th>std</th>\n",
              "      <th>min</th>\n",
              "      <th>25%</th>\n",
              "      <th>50%</th>\n",
              "      <th>75%</th>\n",
              "      <th>max</th>\n",
              "    </tr>\n",
              "    <tr>\n",
              "      <th>method</th>\n",
              "      <th></th>\n",
              "      <th></th>\n",
              "      <th></th>\n",
              "      <th></th>\n",
              "      <th></th>\n",
              "      <th></th>\n",
              "      <th></th>\n",
              "      <th></th>\n",
              "    </tr>\n",
              "  </thead>\n",
              "  <tbody>\n",
              "    <tr>\n",
              "      <th>Astrometry</th>\n",
              "      <td>2.0</td>\n",
              "      <td>2011.500000</td>\n",
              "      <td>2.121320</td>\n",
              "      <td>2010.0</td>\n",
              "      <td>2010.75</td>\n",
              "      <td>2011.5</td>\n",
              "      <td>2012.25</td>\n",
              "      <td>2013.0</td>\n",
              "    </tr>\n",
              "    <tr>\n",
              "      <th>Eclipse Timing Variations</th>\n",
              "      <td>9.0</td>\n",
              "      <td>2010.000000</td>\n",
              "      <td>1.414214</td>\n",
              "      <td>2008.0</td>\n",
              "      <td>2009.00</td>\n",
              "      <td>2010.0</td>\n",
              "      <td>2011.00</td>\n",
              "      <td>2012.0</td>\n",
              "    </tr>\n",
              "    <tr>\n",
              "      <th>Imaging</th>\n",
              "      <td>38.0</td>\n",
              "      <td>2009.131579</td>\n",
              "      <td>2.781901</td>\n",
              "      <td>2004.0</td>\n",
              "      <td>2008.00</td>\n",
              "      <td>2009.0</td>\n",
              "      <td>2011.00</td>\n",
              "      <td>2013.0</td>\n",
              "    </tr>\n",
              "    <tr>\n",
              "      <th>Microlensing</th>\n",
              "      <td>23.0</td>\n",
              "      <td>2009.782609</td>\n",
              "      <td>2.859697</td>\n",
              "      <td>2004.0</td>\n",
              "      <td>2008.00</td>\n",
              "      <td>2010.0</td>\n",
              "      <td>2012.00</td>\n",
              "      <td>2013.0</td>\n",
              "    </tr>\n",
              "    <tr>\n",
              "      <th>Orbital Brightness Modulation</th>\n",
              "      <td>3.0</td>\n",
              "      <td>2011.666667</td>\n",
              "      <td>1.154701</td>\n",
              "      <td>2011.0</td>\n",
              "      <td>2011.00</td>\n",
              "      <td>2011.0</td>\n",
              "      <td>2012.00</td>\n",
              "      <td>2013.0</td>\n",
              "    </tr>\n",
              "    <tr>\n",
              "      <th>Pulsar Timing</th>\n",
              "      <td>5.0</td>\n",
              "      <td>1998.400000</td>\n",
              "      <td>8.384510</td>\n",
              "      <td>1992.0</td>\n",
              "      <td>1992.00</td>\n",
              "      <td>1994.0</td>\n",
              "      <td>2003.00</td>\n",
              "      <td>2011.0</td>\n",
              "    </tr>\n",
              "    <tr>\n",
              "      <th>Pulsation Timing Variations</th>\n",
              "      <td>1.0</td>\n",
              "      <td>2007.000000</td>\n",
              "      <td>NaN</td>\n",
              "      <td>2007.0</td>\n",
              "      <td>2007.00</td>\n",
              "      <td>2007.0</td>\n",
              "      <td>2007.00</td>\n",
              "      <td>2007.0</td>\n",
              "    </tr>\n",
              "    <tr>\n",
              "      <th>Radial Velocity</th>\n",
              "      <td>553.0</td>\n",
              "      <td>2007.518987</td>\n",
              "      <td>4.249052</td>\n",
              "      <td>1989.0</td>\n",
              "      <td>2005.00</td>\n",
              "      <td>2009.0</td>\n",
              "      <td>2011.00</td>\n",
              "      <td>2014.0</td>\n",
              "    </tr>\n",
              "    <tr>\n",
              "      <th>Transit</th>\n",
              "      <td>397.0</td>\n",
              "      <td>2011.236776</td>\n",
              "      <td>2.077867</td>\n",
              "      <td>2002.0</td>\n",
              "      <td>2010.00</td>\n",
              "      <td>2012.0</td>\n",
              "      <td>2013.00</td>\n",
              "      <td>2014.0</td>\n",
              "    </tr>\n",
              "    <tr>\n",
              "      <th>Transit Timing Variations</th>\n",
              "      <td>4.0</td>\n",
              "      <td>2012.500000</td>\n",
              "      <td>1.290994</td>\n",
              "      <td>2011.0</td>\n",
              "      <td>2011.75</td>\n",
              "      <td>2012.5</td>\n",
              "      <td>2013.25</td>\n",
              "      <td>2014.0</td>\n",
              "    </tr>\n",
              "  </tbody>\n",
              "</table>\n",
              "</div>"
            ],
            "text/plain": [
              "                               count         mean       std     min      25%  \\\n",
              "method                                                                         \n",
              "Astrometry                       2.0  2011.500000  2.121320  2010.0  2010.75   \n",
              "Eclipse Timing Variations        9.0  2010.000000  1.414214  2008.0  2009.00   \n",
              "Imaging                         38.0  2009.131579  2.781901  2004.0  2008.00   \n",
              "Microlensing                    23.0  2009.782609  2.859697  2004.0  2008.00   \n",
              "Orbital Brightness Modulation    3.0  2011.666667  1.154701  2011.0  2011.00   \n",
              "Pulsar Timing                    5.0  1998.400000  8.384510  1992.0  1992.00   \n",
              "Pulsation Timing Variations      1.0  2007.000000       NaN  2007.0  2007.00   \n",
              "Radial Velocity                553.0  2007.518987  4.249052  1989.0  2005.00   \n",
              "Transit                        397.0  2011.236776  2.077867  2002.0  2010.00   \n",
              "Transit Timing Variations        4.0  2012.500000  1.290994  2011.0  2011.75   \n",
              "\n",
              "                                  50%      75%     max  \n",
              "method                                                  \n",
              "Astrometry                     2011.5  2012.25  2013.0  \n",
              "Eclipse Timing Variations      2010.0  2011.00  2012.0  \n",
              "Imaging                        2009.0  2011.00  2013.0  \n",
              "Microlensing                   2010.0  2012.00  2013.0  \n",
              "Orbital Brightness Modulation  2011.0  2012.00  2013.0  \n",
              "Pulsar Timing                  1994.0  2003.00  2011.0  \n",
              "Pulsation Timing Variations    2007.0  2007.00  2007.0  \n",
              "Radial Velocity                2009.0  2011.00  2014.0  \n",
              "Transit                        2012.0  2013.00  2014.0  \n",
              "Transit Timing Variations      2012.5  2013.25  2014.0  "
            ]
          },
          "execution_count": 18,
          "metadata": {},
          "output_type": "execute_result"
        }
      ]
    },
    {
      "cell_type": "markdown",
      "metadata": {
        "id": "BCNfnOg6i9NI"
      },
      "source": [
        "Looking at this table helps us to better understand the data: for example, the vast majority of planets have been discovered by the Radial Velocity and Transit methods, though the latter only became common (due to new, more accurate telescopes) in the last decade.\n",
        "The newest methods seem to be Transit Timing Variation and Orbital Brightness Modulation, which were not used to discover a new planet until 2011.\n",
        "\n",
        "This is just one example of the utility of dispatch methods.\n",
        "Notice that they are applied *to each individual group*, and the results are then combined within ``GroupBy`` and returned.\n",
        "Again, any valid ``DataFrame``/``Series`` method can be used on the corresponding ``GroupBy`` object, which allows for some very flexible and powerful operations!"
      ]
    },
    {
      "cell_type": "markdown",
      "metadata": {
        "id": "HHTupYM4i9NI"
      },
      "source": [
        "### Aggregate, filter, transform, apply\n",
        "\n",
        "The preceding discussion focused on aggregation for the combine operation, but there are more options available.\n",
        "In particular, ``GroupBy`` objects have ``aggregate()``, ``filter()``, ``transform()``, and ``apply()`` methods that efficiently implement a variety of useful operations before combining the grouped data.\n",
        "\n",
        "For the purpose of the following subsections, we'll use this ``DataFrame``:"
      ]
    },
    {
      "cell_type": "code",
      "metadata": {
        "id": "bt9K2DOki9NI",
        "outputId": "2f6061bb-cdab-4b71-fdc0-36df7e3ac88f"
      },
      "source": [
        "rng = np.random.RandomState(0)\n",
        "df = pd.DataFrame({'key': ['A', 'B', 'C', 'A', 'B', 'C'],\n",
        "                   'data1': range(6),\n",
        "                   'data2': rng.randint(0, 10, 6)},\n",
        "                   columns = ['key', 'data1', 'data2'])\n",
        "df"
      ],
      "execution_count": null,
      "outputs": [
        {
          "data": {
            "text/html": [
              "<div>\n",
              "<table border=\"1\" class=\"dataframe\">\n",
              "  <thead>\n",
              "    <tr style=\"text-align: right;\">\n",
              "      <th></th>\n",
              "      <th>key</th>\n",
              "      <th>data1</th>\n",
              "      <th>data2</th>\n",
              "    </tr>\n",
              "  </thead>\n",
              "  <tbody>\n",
              "    <tr>\n",
              "      <th>0</th>\n",
              "      <td>A</td>\n",
              "      <td>0</td>\n",
              "      <td>5</td>\n",
              "    </tr>\n",
              "    <tr>\n",
              "      <th>1</th>\n",
              "      <td>B</td>\n",
              "      <td>1</td>\n",
              "      <td>0</td>\n",
              "    </tr>\n",
              "    <tr>\n",
              "      <th>2</th>\n",
              "      <td>C</td>\n",
              "      <td>2</td>\n",
              "      <td>3</td>\n",
              "    </tr>\n",
              "    <tr>\n",
              "      <th>3</th>\n",
              "      <td>A</td>\n",
              "      <td>3</td>\n",
              "      <td>3</td>\n",
              "    </tr>\n",
              "    <tr>\n",
              "      <th>4</th>\n",
              "      <td>B</td>\n",
              "      <td>4</td>\n",
              "      <td>7</td>\n",
              "    </tr>\n",
              "    <tr>\n",
              "      <th>5</th>\n",
              "      <td>C</td>\n",
              "      <td>5</td>\n",
              "      <td>9</td>\n",
              "    </tr>\n",
              "  </tbody>\n",
              "</table>\n",
              "</div>"
            ],
            "text/plain": [
              "  key  data1  data2\n",
              "0   A      0      5\n",
              "1   B      1      0\n",
              "2   C      2      3\n",
              "3   A      3      3\n",
              "4   B      4      7\n",
              "5   C      5      9"
            ]
          },
          "execution_count": 19,
          "metadata": {},
          "output_type": "execute_result"
        }
      ]
    },
    {
      "cell_type": "markdown",
      "metadata": {
        "id": "MJmNRSNRi9NJ"
      },
      "source": [
        "#### Aggregation\n",
        "\n",
        "We're now familiar with ``GroupBy`` aggregations with ``sum()``, ``median()``, and the like, but the ``aggregate()`` method allows for even more flexibility.\n",
        "It can take a string, a function, or a list thereof, and compute all the aggregates at once.\n",
        "Here is a quick example combining all these:"
      ]
    },
    {
      "cell_type": "code",
      "metadata": {
        "id": "H657Le9Ii9NJ",
        "outputId": "7bd1c394-fe4a-4fee-fe1f-ca86d26cda07"
      },
      "source": [
        "df.groupby('key').aggregate(['min', np.median, max])"
      ],
      "execution_count": null,
      "outputs": [
        {
          "data": {
            "text/html": [
              "<div>\n",
              "<table border=\"1\" class=\"dataframe\">\n",
              "  <thead>\n",
              "    <tr>\n",
              "      <th></th>\n",
              "      <th colspan=\"3\" halign=\"left\">data1</th>\n",
              "      <th colspan=\"3\" halign=\"left\">data2</th>\n",
              "    </tr>\n",
              "    <tr>\n",
              "      <th></th>\n",
              "      <th>min</th>\n",
              "      <th>median</th>\n",
              "      <th>max</th>\n",
              "      <th>min</th>\n",
              "      <th>median</th>\n",
              "      <th>max</th>\n",
              "    </tr>\n",
              "    <tr>\n",
              "      <th>key</th>\n",
              "      <th></th>\n",
              "      <th></th>\n",
              "      <th></th>\n",
              "      <th></th>\n",
              "      <th></th>\n",
              "      <th></th>\n",
              "    </tr>\n",
              "  </thead>\n",
              "  <tbody>\n",
              "    <tr>\n",
              "      <th>A</th>\n",
              "      <td>0</td>\n",
              "      <td>1.5</td>\n",
              "      <td>3</td>\n",
              "      <td>3</td>\n",
              "      <td>4.0</td>\n",
              "      <td>5</td>\n",
              "    </tr>\n",
              "    <tr>\n",
              "      <th>B</th>\n",
              "      <td>1</td>\n",
              "      <td>2.5</td>\n",
              "      <td>4</td>\n",
              "      <td>0</td>\n",
              "      <td>3.5</td>\n",
              "      <td>7</td>\n",
              "    </tr>\n",
              "    <tr>\n",
              "      <th>C</th>\n",
              "      <td>2</td>\n",
              "      <td>3.5</td>\n",
              "      <td>5</td>\n",
              "      <td>3</td>\n",
              "      <td>6.0</td>\n",
              "      <td>9</td>\n",
              "    </tr>\n",
              "  </tbody>\n",
              "</table>\n",
              "</div>"
            ],
            "text/plain": [
              "    data1            data2           \n",
              "      min median max   min median max\n",
              "key                                  \n",
              "A       0    1.5   3     3    4.0   5\n",
              "B       1    2.5   4     0    3.5   7\n",
              "C       2    3.5   5     3    6.0   9"
            ]
          },
          "execution_count": 20,
          "metadata": {},
          "output_type": "execute_result"
        }
      ]
    },
    {
      "cell_type": "markdown",
      "metadata": {
        "id": "ajfBKEXsi9NJ"
      },
      "source": [
        "Another useful pattern is to pass a dictionary mapping column names to operations to be applied on that column:"
      ]
    },
    {
      "cell_type": "code",
      "metadata": {
        "id": "YK8gSbG1i9NK",
        "outputId": "2f7464ba-252a-46fc-9af6-1e1c930a84df"
      },
      "source": [
        "df.groupby('key').aggregate({'data1': 'min',\n",
        "                             'data2': 'max'})"
      ],
      "execution_count": null,
      "outputs": [
        {
          "data": {
            "text/html": [
              "<div>\n",
              "<table border=\"1\" class=\"dataframe\">\n",
              "  <thead>\n",
              "    <tr style=\"text-align: right;\">\n",
              "      <th></th>\n",
              "      <th>data1</th>\n",
              "      <th>data2</th>\n",
              "    </tr>\n",
              "    <tr>\n",
              "      <th>key</th>\n",
              "      <th></th>\n",
              "      <th></th>\n",
              "    </tr>\n",
              "  </thead>\n",
              "  <tbody>\n",
              "    <tr>\n",
              "      <th>A</th>\n",
              "      <td>0</td>\n",
              "      <td>5</td>\n",
              "    </tr>\n",
              "    <tr>\n",
              "      <th>B</th>\n",
              "      <td>1</td>\n",
              "      <td>7</td>\n",
              "    </tr>\n",
              "    <tr>\n",
              "      <th>C</th>\n",
              "      <td>2</td>\n",
              "      <td>9</td>\n",
              "    </tr>\n",
              "  </tbody>\n",
              "</table>\n",
              "</div>"
            ],
            "text/plain": [
              "     data1  data2\n",
              "key              \n",
              "A        0      5\n",
              "B        1      7\n",
              "C        2      9"
            ]
          },
          "execution_count": 21,
          "metadata": {},
          "output_type": "execute_result"
        }
      ]
    },
    {
      "cell_type": "markdown",
      "metadata": {
        "id": "yCSEWed9i9NK"
      },
      "source": [
        "#### Filtering\n",
        "\n",
        "A filtering operation allows you to drop data based on the group properties.\n",
        "For example, we might want to keep all groups in which the standard deviation is larger than some critical value:"
      ]
    },
    {
      "cell_type": "code",
      "metadata": {
        "id": "hzg6Lizoi9NK",
        "outputId": "395a4ffe-f185-45d8-d84f-82399516fc58"
      },
      "source": [
        "def filter_func(x):\n",
        "    return x['data2'].std() > 4\n",
        "\n",
        "display('df', \"df.groupby('key').std()\", \"df.groupby('key').filter(filter_func)\")"
      ],
      "execution_count": null,
      "outputs": [
        {
          "data": {
            "text/html": [
              "<div style=\"float: left; padding: 10px;\">\n",
              "    <p style='font-family:\"Courier New\", Courier, monospace'>df</p><div>\n",
              "<table border=\"1\" class=\"dataframe\">\n",
              "  <thead>\n",
              "    <tr style=\"text-align: right;\">\n",
              "      <th></th>\n",
              "      <th>key</th>\n",
              "      <th>data1</th>\n",
              "      <th>data2</th>\n",
              "    </tr>\n",
              "  </thead>\n",
              "  <tbody>\n",
              "    <tr>\n",
              "      <th>0</th>\n",
              "      <td>A</td>\n",
              "      <td>0</td>\n",
              "      <td>5</td>\n",
              "    </tr>\n",
              "    <tr>\n",
              "      <th>1</th>\n",
              "      <td>B</td>\n",
              "      <td>1</td>\n",
              "      <td>0</td>\n",
              "    </tr>\n",
              "    <tr>\n",
              "      <th>2</th>\n",
              "      <td>C</td>\n",
              "      <td>2</td>\n",
              "      <td>3</td>\n",
              "    </tr>\n",
              "    <tr>\n",
              "      <th>3</th>\n",
              "      <td>A</td>\n",
              "      <td>3</td>\n",
              "      <td>3</td>\n",
              "    </tr>\n",
              "    <tr>\n",
              "      <th>4</th>\n",
              "      <td>B</td>\n",
              "      <td>4</td>\n",
              "      <td>7</td>\n",
              "    </tr>\n",
              "    <tr>\n",
              "      <th>5</th>\n",
              "      <td>C</td>\n",
              "      <td>5</td>\n",
              "      <td>9</td>\n",
              "    </tr>\n",
              "  </tbody>\n",
              "</table>\n",
              "</div>\n",
              "    </div>\n",
              "<div style=\"float: left; padding: 10px;\">\n",
              "    <p style='font-family:\"Courier New\", Courier, monospace'>df.groupby('key').std()</p><div>\n",
              "<table border=\"1\" class=\"dataframe\">\n",
              "  <thead>\n",
              "    <tr style=\"text-align: right;\">\n",
              "      <th></th>\n",
              "      <th>data1</th>\n",
              "      <th>data2</th>\n",
              "    </tr>\n",
              "    <tr>\n",
              "      <th>key</th>\n",
              "      <th></th>\n",
              "      <th></th>\n",
              "    </tr>\n",
              "  </thead>\n",
              "  <tbody>\n",
              "    <tr>\n",
              "      <th>A</th>\n",
              "      <td>2.12132</td>\n",
              "      <td>1.414214</td>\n",
              "    </tr>\n",
              "    <tr>\n",
              "      <th>B</th>\n",
              "      <td>2.12132</td>\n",
              "      <td>4.949747</td>\n",
              "    </tr>\n",
              "    <tr>\n",
              "      <th>C</th>\n",
              "      <td>2.12132</td>\n",
              "      <td>4.242641</td>\n",
              "    </tr>\n",
              "  </tbody>\n",
              "</table>\n",
              "</div>\n",
              "    </div>\n",
              "<div style=\"float: left; padding: 10px;\">\n",
              "    <p style='font-family:\"Courier New\", Courier, monospace'>df.groupby('key').filter(filter_func)</p><div>\n",
              "<table border=\"1\" class=\"dataframe\">\n",
              "  <thead>\n",
              "    <tr style=\"text-align: right;\">\n",
              "      <th></th>\n",
              "      <th>key</th>\n",
              "      <th>data1</th>\n",
              "      <th>data2</th>\n",
              "    </tr>\n",
              "  </thead>\n",
              "  <tbody>\n",
              "    <tr>\n",
              "      <th>1</th>\n",
              "      <td>B</td>\n",
              "      <td>1</td>\n",
              "      <td>0</td>\n",
              "    </tr>\n",
              "    <tr>\n",
              "      <th>2</th>\n",
              "      <td>C</td>\n",
              "      <td>2</td>\n",
              "      <td>3</td>\n",
              "    </tr>\n",
              "    <tr>\n",
              "      <th>4</th>\n",
              "      <td>B</td>\n",
              "      <td>4</td>\n",
              "      <td>7</td>\n",
              "    </tr>\n",
              "    <tr>\n",
              "      <th>5</th>\n",
              "      <td>C</td>\n",
              "      <td>5</td>\n",
              "      <td>9</td>\n",
              "    </tr>\n",
              "  </tbody>\n",
              "</table>\n",
              "</div>\n",
              "    </div>"
            ],
            "text/plain": [
              "df\n",
              "  key  data1  data2\n",
              "0   A      0      5\n",
              "1   B      1      0\n",
              "2   C      2      3\n",
              "3   A      3      3\n",
              "4   B      4      7\n",
              "5   C      5      9\n",
              "\n",
              "df.groupby('key').std()\n",
              "       data1     data2\n",
              "key                   \n",
              "A    2.12132  1.414214\n",
              "B    2.12132  4.949747\n",
              "C    2.12132  4.242641\n",
              "\n",
              "df.groupby('key').filter(filter_func)\n",
              "  key  data1  data2\n",
              "1   B      1      0\n",
              "2   C      2      3\n",
              "4   B      4      7\n",
              "5   C      5      9"
            ]
          },
          "execution_count": 22,
          "metadata": {},
          "output_type": "execute_result"
        }
      ]
    },
    {
      "cell_type": "markdown",
      "metadata": {
        "id": "jjMFU5Eti9NL"
      },
      "source": [
        "The filter function should return a Boolean value specifying whether the group passes the filtering. Here because group A does not have a standard deviation greater than 4, it is dropped from the result."
      ]
    },
    {
      "cell_type": "markdown",
      "metadata": {
        "id": "SvH4PJP0i9NL"
      },
      "source": [
        "#### Transformation\n",
        "\n",
        "While aggregation must return a reduced version of the data, transformation can return some transformed version of the full data to recombine.\n",
        "For such a transformation, the output is the same shape as the input.\n",
        "A common example is to center the data by subtracting the group-wise mean:"
      ]
    },
    {
      "cell_type": "code",
      "metadata": {
        "id": "Ac1zTUZni9NL",
        "outputId": "805bf9ee-7b17-4f5f-f931-fccd0f5a03e4"
      },
      "source": [
        "df.groupby('key').transform(lambda x: x - x.mean())"
      ],
      "execution_count": null,
      "outputs": [
        {
          "data": {
            "text/html": [
              "<div>\n",
              "<table border=\"1\" class=\"dataframe\">\n",
              "  <thead>\n",
              "    <tr style=\"text-align: right;\">\n",
              "      <th></th>\n",
              "      <th>data1</th>\n",
              "      <th>data2</th>\n",
              "    </tr>\n",
              "  </thead>\n",
              "  <tbody>\n",
              "    <tr>\n",
              "      <th>0</th>\n",
              "      <td>-1.5</td>\n",
              "      <td>1.0</td>\n",
              "    </tr>\n",
              "    <tr>\n",
              "      <th>1</th>\n",
              "      <td>-1.5</td>\n",
              "      <td>-3.5</td>\n",
              "    </tr>\n",
              "    <tr>\n",
              "      <th>2</th>\n",
              "      <td>-1.5</td>\n",
              "      <td>-3.0</td>\n",
              "    </tr>\n",
              "    <tr>\n",
              "      <th>3</th>\n",
              "      <td>1.5</td>\n",
              "      <td>-1.0</td>\n",
              "    </tr>\n",
              "    <tr>\n",
              "      <th>4</th>\n",
              "      <td>1.5</td>\n",
              "      <td>3.5</td>\n",
              "    </tr>\n",
              "    <tr>\n",
              "      <th>5</th>\n",
              "      <td>1.5</td>\n",
              "      <td>3.0</td>\n",
              "    </tr>\n",
              "  </tbody>\n",
              "</table>\n",
              "</div>"
            ],
            "text/plain": [
              "   data1  data2\n",
              "0   -1.5    1.0\n",
              "1   -1.5   -3.5\n",
              "2   -1.5   -3.0\n",
              "3    1.5   -1.0\n",
              "4    1.5    3.5\n",
              "5    1.5    3.0"
            ]
          },
          "execution_count": 23,
          "metadata": {},
          "output_type": "execute_result"
        }
      ]
    },
    {
      "cell_type": "markdown",
      "metadata": {
        "id": "VM66U8sWi9NL"
      },
      "source": [
        "#### The apply() method\n",
        "\n",
        "The ``apply()`` method lets you apply an arbitrary function to the group results.\n",
        "The function should take a ``DataFrame``, and return either a Pandas object (e.g., ``DataFrame``, ``Series``) or a scalar; the combine operation will be tailored to the type of output returned.\n",
        "\n",
        "For example, here is an ``apply()`` that normalizes the first column by the sum of the second:"
      ]
    },
    {
      "cell_type": "code",
      "metadata": {
        "id": "dY3LYzSOi9NM",
        "outputId": "6036176b-bc14-4d7b-bb9d-c5f60a33ddcd"
      },
      "source": [
        "def norm_by_data2(x):\n",
        "    # x is a DataFrame of group values\n",
        "    x['data1'] /= x['data2'].sum()\n",
        "    return x\n",
        "\n",
        "display('df', \"df.groupby('key').apply(norm_by_data2)\")"
      ],
      "execution_count": null,
      "outputs": [
        {
          "data": {
            "text/html": [
              "<div style=\"float: left; padding: 10px;\">\n",
              "    <p style='font-family:\"Courier New\", Courier, monospace'>df</p><div>\n",
              "<table border=\"1\" class=\"dataframe\">\n",
              "  <thead>\n",
              "    <tr style=\"text-align: right;\">\n",
              "      <th></th>\n",
              "      <th>key</th>\n",
              "      <th>data1</th>\n",
              "      <th>data2</th>\n",
              "    </tr>\n",
              "  </thead>\n",
              "  <tbody>\n",
              "    <tr>\n",
              "      <th>0</th>\n",
              "      <td>A</td>\n",
              "      <td>0</td>\n",
              "      <td>5</td>\n",
              "    </tr>\n",
              "    <tr>\n",
              "      <th>1</th>\n",
              "      <td>B</td>\n",
              "      <td>1</td>\n",
              "      <td>0</td>\n",
              "    </tr>\n",
              "    <tr>\n",
              "      <th>2</th>\n",
              "      <td>C</td>\n",
              "      <td>2</td>\n",
              "      <td>3</td>\n",
              "    </tr>\n",
              "    <tr>\n",
              "      <th>3</th>\n",
              "      <td>A</td>\n",
              "      <td>3</td>\n",
              "      <td>3</td>\n",
              "    </tr>\n",
              "    <tr>\n",
              "      <th>4</th>\n",
              "      <td>B</td>\n",
              "      <td>4</td>\n",
              "      <td>7</td>\n",
              "    </tr>\n",
              "    <tr>\n",
              "      <th>5</th>\n",
              "      <td>C</td>\n",
              "      <td>5</td>\n",
              "      <td>9</td>\n",
              "    </tr>\n",
              "  </tbody>\n",
              "</table>\n",
              "</div>\n",
              "    </div>\n",
              "<div style=\"float: left; padding: 10px;\">\n",
              "    <p style='font-family:\"Courier New\", Courier, monospace'>df.groupby('key').apply(norm_by_data2)</p><div>\n",
              "<table border=\"1\" class=\"dataframe\">\n",
              "  <thead>\n",
              "    <tr style=\"text-align: right;\">\n",
              "      <th></th>\n",
              "      <th>key</th>\n",
              "      <th>data1</th>\n",
              "      <th>data2</th>\n",
              "    </tr>\n",
              "  </thead>\n",
              "  <tbody>\n",
              "    <tr>\n",
              "      <th>0</th>\n",
              "      <td>A</td>\n",
              "      <td>0.000000</td>\n",
              "      <td>5</td>\n",
              "    </tr>\n",
              "    <tr>\n",
              "      <th>1</th>\n",
              "      <td>B</td>\n",
              "      <td>0.142857</td>\n",
              "      <td>0</td>\n",
              "    </tr>\n",
              "    <tr>\n",
              "      <th>2</th>\n",
              "      <td>C</td>\n",
              "      <td>0.166667</td>\n",
              "      <td>3</td>\n",
              "    </tr>\n",
              "    <tr>\n",
              "      <th>3</th>\n",
              "      <td>A</td>\n",
              "      <td>0.375000</td>\n",
              "      <td>3</td>\n",
              "    </tr>\n",
              "    <tr>\n",
              "      <th>4</th>\n",
              "      <td>B</td>\n",
              "      <td>0.571429</td>\n",
              "      <td>7</td>\n",
              "    </tr>\n",
              "    <tr>\n",
              "      <th>5</th>\n",
              "      <td>C</td>\n",
              "      <td>0.416667</td>\n",
              "      <td>9</td>\n",
              "    </tr>\n",
              "  </tbody>\n",
              "</table>\n",
              "</div>\n",
              "    </div>"
            ],
            "text/plain": [
              "df\n",
              "  key  data1  data2\n",
              "0   A      0      5\n",
              "1   B      1      0\n",
              "2   C      2      3\n",
              "3   A      3      3\n",
              "4   B      4      7\n",
              "5   C      5      9\n",
              "\n",
              "df.groupby('key').apply(norm_by_data2)\n",
              "  key     data1  data2\n",
              "0   A  0.000000      5\n",
              "1   B  0.142857      0\n",
              "2   C  0.166667      3\n",
              "3   A  0.375000      3\n",
              "4   B  0.571429      7\n",
              "5   C  0.416667      9"
            ]
          },
          "execution_count": 24,
          "metadata": {},
          "output_type": "execute_result"
        }
      ]
    },
    {
      "cell_type": "markdown",
      "metadata": {
        "id": "ZPQNA1O7i9NM"
      },
      "source": [
        "``apply()`` within a ``GroupBy`` is quite flexible: the only criterion is that the function takes a ``DataFrame`` and returns a Pandas object or scalar; what you do in the middle is up to you!"
      ]
    },
    {
      "cell_type": "markdown",
      "metadata": {
        "id": "C5hm_Mi0i9NM"
      },
      "source": [
        "### Specifying the split key\n",
        "\n",
        "In the simple examples presented before, we split the ``DataFrame`` on a single column name.\n",
        "This is just one of many options by which the groups can be defined, and we'll go through some other options for group specification here."
      ]
    },
    {
      "cell_type": "markdown",
      "metadata": {
        "id": "k8xHjRZRi9NM"
      },
      "source": [
        "#### A list, array, series, or index providing the grouping keys\n",
        "\n",
        "The key can be any series or list with a length matching that of the ``DataFrame``. For example:"
      ]
    },
    {
      "cell_type": "code",
      "metadata": {
        "id": "g2S9f1ZBi9NN",
        "outputId": "337fcc2c-ee41-4616-a51c-219130a9c6fc"
      },
      "source": [
        "L = [0, 1, 0, 1, 2, 0]\n",
        "display('df', 'df.groupby(L).sum()')"
      ],
      "execution_count": null,
      "outputs": [
        {
          "data": {
            "text/html": [
              "<div style=\"float: left; padding: 10px;\">\n",
              "    <p style='font-family:\"Courier New\", Courier, monospace'>df</p><div>\n",
              "<table border=\"1\" class=\"dataframe\">\n",
              "  <thead>\n",
              "    <tr style=\"text-align: right;\">\n",
              "      <th></th>\n",
              "      <th>key</th>\n",
              "      <th>data1</th>\n",
              "      <th>data2</th>\n",
              "    </tr>\n",
              "  </thead>\n",
              "  <tbody>\n",
              "    <tr>\n",
              "      <th>0</th>\n",
              "      <td>A</td>\n",
              "      <td>0</td>\n",
              "      <td>5</td>\n",
              "    </tr>\n",
              "    <tr>\n",
              "      <th>1</th>\n",
              "      <td>B</td>\n",
              "      <td>1</td>\n",
              "      <td>0</td>\n",
              "    </tr>\n",
              "    <tr>\n",
              "      <th>2</th>\n",
              "      <td>C</td>\n",
              "      <td>2</td>\n",
              "      <td>3</td>\n",
              "    </tr>\n",
              "    <tr>\n",
              "      <th>3</th>\n",
              "      <td>A</td>\n",
              "      <td>3</td>\n",
              "      <td>3</td>\n",
              "    </tr>\n",
              "    <tr>\n",
              "      <th>4</th>\n",
              "      <td>B</td>\n",
              "      <td>4</td>\n",
              "      <td>7</td>\n",
              "    </tr>\n",
              "    <tr>\n",
              "      <th>5</th>\n",
              "      <td>C</td>\n",
              "      <td>5</td>\n",
              "      <td>9</td>\n",
              "    </tr>\n",
              "  </tbody>\n",
              "</table>\n",
              "</div>\n",
              "    </div>\n",
              "<div style=\"float: left; padding: 10px;\">\n",
              "    <p style='font-family:\"Courier New\", Courier, monospace'>df.groupby(L).sum()</p><div>\n",
              "<table border=\"1\" class=\"dataframe\">\n",
              "  <thead>\n",
              "    <tr style=\"text-align: right;\">\n",
              "      <th></th>\n",
              "      <th>data1</th>\n",
              "      <th>data2</th>\n",
              "    </tr>\n",
              "  </thead>\n",
              "  <tbody>\n",
              "    <tr>\n",
              "      <th>0</th>\n",
              "      <td>7</td>\n",
              "      <td>17</td>\n",
              "    </tr>\n",
              "    <tr>\n",
              "      <th>1</th>\n",
              "      <td>4</td>\n",
              "      <td>3</td>\n",
              "    </tr>\n",
              "    <tr>\n",
              "      <th>2</th>\n",
              "      <td>4</td>\n",
              "      <td>7</td>\n",
              "    </tr>\n",
              "  </tbody>\n",
              "</table>\n",
              "</div>\n",
              "    </div>"
            ],
            "text/plain": [
              "df\n",
              "  key  data1  data2\n",
              "0   A      0      5\n",
              "1   B      1      0\n",
              "2   C      2      3\n",
              "3   A      3      3\n",
              "4   B      4      7\n",
              "5   C      5      9\n",
              "\n",
              "df.groupby(L).sum()\n",
              "   data1  data2\n",
              "0      7     17\n",
              "1      4      3\n",
              "2      4      7"
            ]
          },
          "execution_count": 25,
          "metadata": {},
          "output_type": "execute_result"
        }
      ]
    },
    {
      "cell_type": "markdown",
      "metadata": {
        "id": "12WRWHCxi9NN"
      },
      "source": [
        "Of course, this means there's another, more verbose way of accomplishing the ``df.groupby('key')`` from before:"
      ]
    },
    {
      "cell_type": "code",
      "metadata": {
        "id": "ot3YE_H8i9NN",
        "outputId": "7c9e3b20-4ae4-4e2d-d353-87cabd44319e"
      },
      "source": [
        "display('df', \"df.groupby(df['key']).sum()\")"
      ],
      "execution_count": null,
      "outputs": [
        {
          "data": {
            "text/html": [
              "<div style=\"float: left; padding: 10px;\">\n",
              "    <p style='font-family:\"Courier New\", Courier, monospace'>df</p><div>\n",
              "<table border=\"1\" class=\"dataframe\">\n",
              "  <thead>\n",
              "    <tr style=\"text-align: right;\">\n",
              "      <th></th>\n",
              "      <th>key</th>\n",
              "      <th>data1</th>\n",
              "      <th>data2</th>\n",
              "    </tr>\n",
              "  </thead>\n",
              "  <tbody>\n",
              "    <tr>\n",
              "      <th>0</th>\n",
              "      <td>A</td>\n",
              "      <td>0</td>\n",
              "      <td>5</td>\n",
              "    </tr>\n",
              "    <tr>\n",
              "      <th>1</th>\n",
              "      <td>B</td>\n",
              "      <td>1</td>\n",
              "      <td>0</td>\n",
              "    </tr>\n",
              "    <tr>\n",
              "      <th>2</th>\n",
              "      <td>C</td>\n",
              "      <td>2</td>\n",
              "      <td>3</td>\n",
              "    </tr>\n",
              "    <tr>\n",
              "      <th>3</th>\n",
              "      <td>A</td>\n",
              "      <td>3</td>\n",
              "      <td>3</td>\n",
              "    </tr>\n",
              "    <tr>\n",
              "      <th>4</th>\n",
              "      <td>B</td>\n",
              "      <td>4</td>\n",
              "      <td>7</td>\n",
              "    </tr>\n",
              "    <tr>\n",
              "      <th>5</th>\n",
              "      <td>C</td>\n",
              "      <td>5</td>\n",
              "      <td>9</td>\n",
              "    </tr>\n",
              "  </tbody>\n",
              "</table>\n",
              "</div>\n",
              "    </div>\n",
              "<div style=\"float: left; padding: 10px;\">\n",
              "    <p style='font-family:\"Courier New\", Courier, monospace'>df.groupby(df['key']).sum()</p><div>\n",
              "<table border=\"1\" class=\"dataframe\">\n",
              "  <thead>\n",
              "    <tr style=\"text-align: right;\">\n",
              "      <th></th>\n",
              "      <th>data1</th>\n",
              "      <th>data2</th>\n",
              "    </tr>\n",
              "    <tr>\n",
              "      <th>key</th>\n",
              "      <th></th>\n",
              "      <th></th>\n",
              "    </tr>\n",
              "  </thead>\n",
              "  <tbody>\n",
              "    <tr>\n",
              "      <th>A</th>\n",
              "      <td>3</td>\n",
              "      <td>8</td>\n",
              "    </tr>\n",
              "    <tr>\n",
              "      <th>B</th>\n",
              "      <td>5</td>\n",
              "      <td>7</td>\n",
              "    </tr>\n",
              "    <tr>\n",
              "      <th>C</th>\n",
              "      <td>7</td>\n",
              "      <td>12</td>\n",
              "    </tr>\n",
              "  </tbody>\n",
              "</table>\n",
              "</div>\n",
              "    </div>"
            ],
            "text/plain": [
              "df\n",
              "  key  data1  data2\n",
              "0   A      0      5\n",
              "1   B      1      0\n",
              "2   C      2      3\n",
              "3   A      3      3\n",
              "4   B      4      7\n",
              "5   C      5      9\n",
              "\n",
              "df.groupby(df['key']).sum()\n",
              "     data1  data2\n",
              "key              \n",
              "A        3      8\n",
              "B        5      7\n",
              "C        7     12"
            ]
          },
          "execution_count": 26,
          "metadata": {},
          "output_type": "execute_result"
        }
      ]
    },
    {
      "cell_type": "markdown",
      "metadata": {
        "id": "6-j5ytGNi9NP"
      },
      "source": [
        "#### A dictionary or series mapping index to group\n",
        "\n",
        "Another method is to provide a dictionary that maps index values to the group keys:"
      ]
    },
    {
      "cell_type": "code",
      "metadata": {
        "id": "ZrmLQ6HVi9NP",
        "outputId": "ca1d0fdc-7501-44d2-ec42-7a429f288248"
      },
      "source": [
        "df2 = df.set_index('key')\n",
        "mapping = {'A': 'vowel', 'B': 'consonant', 'C': 'consonant'}\n",
        "display('df2', 'df2.groupby(mapping).sum()')"
      ],
      "execution_count": null,
      "outputs": [
        {
          "data": {
            "text/html": [
              "<div style=\"float: left; padding: 10px;\">\n",
              "    <p style='font-family:\"Courier New\", Courier, monospace'>df2</p><div>\n",
              "<table border=\"1\" class=\"dataframe\">\n",
              "  <thead>\n",
              "    <tr style=\"text-align: right;\">\n",
              "      <th></th>\n",
              "      <th>data1</th>\n",
              "      <th>data2</th>\n",
              "    </tr>\n",
              "    <tr>\n",
              "      <th>key</th>\n",
              "      <th></th>\n",
              "      <th></th>\n",
              "    </tr>\n",
              "  </thead>\n",
              "  <tbody>\n",
              "    <tr>\n",
              "      <th>A</th>\n",
              "      <td>0</td>\n",
              "      <td>5</td>\n",
              "    </tr>\n",
              "    <tr>\n",
              "      <th>B</th>\n",
              "      <td>1</td>\n",
              "      <td>0</td>\n",
              "    </tr>\n",
              "    <tr>\n",
              "      <th>C</th>\n",
              "      <td>2</td>\n",
              "      <td>3</td>\n",
              "    </tr>\n",
              "    <tr>\n",
              "      <th>A</th>\n",
              "      <td>3</td>\n",
              "      <td>3</td>\n",
              "    </tr>\n",
              "    <tr>\n",
              "      <th>B</th>\n",
              "      <td>4</td>\n",
              "      <td>7</td>\n",
              "    </tr>\n",
              "    <tr>\n",
              "      <th>C</th>\n",
              "      <td>5</td>\n",
              "      <td>9</td>\n",
              "    </tr>\n",
              "  </tbody>\n",
              "</table>\n",
              "</div>\n",
              "    </div>\n",
              "<div style=\"float: left; padding: 10px;\">\n",
              "    <p style='font-family:\"Courier New\", Courier, monospace'>df2.groupby(mapping).sum()</p><div>\n",
              "<table border=\"1\" class=\"dataframe\">\n",
              "  <thead>\n",
              "    <tr style=\"text-align: right;\">\n",
              "      <th></th>\n",
              "      <th>data1</th>\n",
              "      <th>data2</th>\n",
              "    </tr>\n",
              "  </thead>\n",
              "  <tbody>\n",
              "    <tr>\n",
              "      <th>consonant</th>\n",
              "      <td>12</td>\n",
              "      <td>19</td>\n",
              "    </tr>\n",
              "    <tr>\n",
              "      <th>vowel</th>\n",
              "      <td>3</td>\n",
              "      <td>8</td>\n",
              "    </tr>\n",
              "  </tbody>\n",
              "</table>\n",
              "</div>\n",
              "    </div>"
            ],
            "text/plain": [
              "df2\n",
              "     data1  data2\n",
              "key              \n",
              "A        0      5\n",
              "B        1      0\n",
              "C        2      3\n",
              "A        3      3\n",
              "B        4      7\n",
              "C        5      9\n",
              "\n",
              "df2.groupby(mapping).sum()\n",
              "           data1  data2\n",
              "consonant     12     19\n",
              "vowel          3      8"
            ]
          },
          "execution_count": 27,
          "metadata": {},
          "output_type": "execute_result"
        }
      ]
    },
    {
      "cell_type": "markdown",
      "metadata": {
        "id": "WzbOYovMi9NP"
      },
      "source": [
        "#### Any Python function\n",
        "\n",
        "Similar to mapping, you can pass any Python function that will input the index value and output the group:"
      ]
    },
    {
      "cell_type": "code",
      "metadata": {
        "id": "jm27blPti9NP",
        "outputId": "d441f64c-7fe6-4277-ee97-d7bc92ccc007"
      },
      "source": [
        "display('df2', 'df2.groupby(str.lower).mean()')"
      ],
      "execution_count": null,
      "outputs": [
        {
          "data": {
            "text/html": [
              "<div style=\"float: left; padding: 10px;\">\n",
              "    <p style='font-family:\"Courier New\", Courier, monospace'>df2</p><div>\n",
              "<table border=\"1\" class=\"dataframe\">\n",
              "  <thead>\n",
              "    <tr style=\"text-align: right;\">\n",
              "      <th></th>\n",
              "      <th>data1</th>\n",
              "      <th>data2</th>\n",
              "    </tr>\n",
              "    <tr>\n",
              "      <th>key</th>\n",
              "      <th></th>\n",
              "      <th></th>\n",
              "    </tr>\n",
              "  </thead>\n",
              "  <tbody>\n",
              "    <tr>\n",
              "      <th>A</th>\n",
              "      <td>0</td>\n",
              "      <td>5</td>\n",
              "    </tr>\n",
              "    <tr>\n",
              "      <th>B</th>\n",
              "      <td>1</td>\n",
              "      <td>0</td>\n",
              "    </tr>\n",
              "    <tr>\n",
              "      <th>C</th>\n",
              "      <td>2</td>\n",
              "      <td>3</td>\n",
              "    </tr>\n",
              "    <tr>\n",
              "      <th>A</th>\n",
              "      <td>3</td>\n",
              "      <td>3</td>\n",
              "    </tr>\n",
              "    <tr>\n",
              "      <th>B</th>\n",
              "      <td>4</td>\n",
              "      <td>7</td>\n",
              "    </tr>\n",
              "    <tr>\n",
              "      <th>C</th>\n",
              "      <td>5</td>\n",
              "      <td>9</td>\n",
              "    </tr>\n",
              "  </tbody>\n",
              "</table>\n",
              "</div>\n",
              "    </div>\n",
              "<div style=\"float: left; padding: 10px;\">\n",
              "    <p style='font-family:\"Courier New\", Courier, monospace'>df2.groupby(str.lower).mean()</p><div>\n",
              "<table border=\"1\" class=\"dataframe\">\n",
              "  <thead>\n",
              "    <tr style=\"text-align: right;\">\n",
              "      <th></th>\n",
              "      <th>data1</th>\n",
              "      <th>data2</th>\n",
              "    </tr>\n",
              "  </thead>\n",
              "  <tbody>\n",
              "    <tr>\n",
              "      <th>a</th>\n",
              "      <td>1.5</td>\n",
              "      <td>4.0</td>\n",
              "    </tr>\n",
              "    <tr>\n",
              "      <th>b</th>\n",
              "      <td>2.5</td>\n",
              "      <td>3.5</td>\n",
              "    </tr>\n",
              "    <tr>\n",
              "      <th>c</th>\n",
              "      <td>3.5</td>\n",
              "      <td>6.0</td>\n",
              "    </tr>\n",
              "  </tbody>\n",
              "</table>\n",
              "</div>\n",
              "    </div>"
            ],
            "text/plain": [
              "df2\n",
              "     data1  data2\n",
              "key              \n",
              "A        0      5\n",
              "B        1      0\n",
              "C        2      3\n",
              "A        3      3\n",
              "B        4      7\n",
              "C        5      9\n",
              "\n",
              "df2.groupby(str.lower).mean()\n",
              "   data1  data2\n",
              "a    1.5    4.0\n",
              "b    2.5    3.5\n",
              "c    3.5    6.0"
            ]
          },
          "execution_count": 28,
          "metadata": {},
          "output_type": "execute_result"
        }
      ]
    },
    {
      "cell_type": "markdown",
      "metadata": {
        "id": "NJ17xLtqi9NQ"
      },
      "source": [
        "#### A list of valid keys\n",
        "\n",
        "Further, any of the preceding key choices can be combined to group on a multi-index:"
      ]
    },
    {
      "cell_type": "code",
      "metadata": {
        "id": "Cf8tedeni9NQ",
        "outputId": "6cd0cb3c-8099-4bdc-b081-5d4d559afe6d"
      },
      "source": [
        "df2.groupby([str.lower, mapping]).mean()"
      ],
      "execution_count": null,
      "outputs": [
        {
          "data": {
            "text/html": [
              "<div>\n",
              "<table border=\"1\" class=\"dataframe\">\n",
              "  <thead>\n",
              "    <tr style=\"text-align: right;\">\n",
              "      <th></th>\n",
              "      <th></th>\n",
              "      <th>data1</th>\n",
              "      <th>data2</th>\n",
              "    </tr>\n",
              "  </thead>\n",
              "  <tbody>\n",
              "    <tr>\n",
              "      <th>a</th>\n",
              "      <th>vowel</th>\n",
              "      <td>1.5</td>\n",
              "      <td>4.0</td>\n",
              "    </tr>\n",
              "    <tr>\n",
              "      <th>b</th>\n",
              "      <th>consonant</th>\n",
              "      <td>2.5</td>\n",
              "      <td>3.5</td>\n",
              "    </tr>\n",
              "    <tr>\n",
              "      <th>c</th>\n",
              "      <th>consonant</th>\n",
              "      <td>3.5</td>\n",
              "      <td>6.0</td>\n",
              "    </tr>\n",
              "  </tbody>\n",
              "</table>\n",
              "</div>"
            ],
            "text/plain": [
              "             data1  data2\n",
              "a vowel        1.5    4.0\n",
              "b consonant    2.5    3.5\n",
              "c consonant    3.5    6.0"
            ]
          },
          "execution_count": 29,
          "metadata": {},
          "output_type": "execute_result"
        }
      ]
    },
    {
      "cell_type": "markdown",
      "metadata": {
        "id": "rAwhpNDxi9NQ"
      },
      "source": [
        "### Grouping example\n",
        "\n",
        "As an example of this, in a couple lines of Python code we can put all these together and count discovered planets by method and by decade:"
      ]
    },
    {
      "cell_type": "code",
      "metadata": {
        "id": "K5tNu0PCi9NR",
        "outputId": "3e16ee19-012a-4212-ac26-cd59893e6986"
      },
      "source": [
        "decade = 10 * (planets['year'] // 10)\n",
        "decade = decade.astype(str) + 's'\n",
        "decade.name = 'decade'\n",
        "planets.groupby(['method', decade])['number'].sum().unstack().fillna(0)"
      ],
      "execution_count": null,
      "outputs": [
        {
          "data": {
            "text/html": [
              "<div>\n",
              "<table border=\"1\" class=\"dataframe\">\n",
              "  <thead>\n",
              "    <tr style=\"text-align: right;\">\n",
              "      <th>decade</th>\n",
              "      <th>1980s</th>\n",
              "      <th>1990s</th>\n",
              "      <th>2000s</th>\n",
              "      <th>2010s</th>\n",
              "    </tr>\n",
              "    <tr>\n",
              "      <th>method</th>\n",
              "      <th></th>\n",
              "      <th></th>\n",
              "      <th></th>\n",
              "      <th></th>\n",
              "    </tr>\n",
              "  </thead>\n",
              "  <tbody>\n",
              "    <tr>\n",
              "      <th>Astrometry</th>\n",
              "      <td>0.0</td>\n",
              "      <td>0.0</td>\n",
              "      <td>0.0</td>\n",
              "      <td>2.0</td>\n",
              "    </tr>\n",
              "    <tr>\n",
              "      <th>Eclipse Timing Variations</th>\n",
              "      <td>0.0</td>\n",
              "      <td>0.0</td>\n",
              "      <td>5.0</td>\n",
              "      <td>10.0</td>\n",
              "    </tr>\n",
              "    <tr>\n",
              "      <th>Imaging</th>\n",
              "      <td>0.0</td>\n",
              "      <td>0.0</td>\n",
              "      <td>29.0</td>\n",
              "      <td>21.0</td>\n",
              "    </tr>\n",
              "    <tr>\n",
              "      <th>Microlensing</th>\n",
              "      <td>0.0</td>\n",
              "      <td>0.0</td>\n",
              "      <td>12.0</td>\n",
              "      <td>15.0</td>\n",
              "    </tr>\n",
              "    <tr>\n",
              "      <th>Orbital Brightness Modulation</th>\n",
              "      <td>0.0</td>\n",
              "      <td>0.0</td>\n",
              "      <td>0.0</td>\n",
              "      <td>5.0</td>\n",
              "    </tr>\n",
              "    <tr>\n",
              "      <th>Pulsar Timing</th>\n",
              "      <td>0.0</td>\n",
              "      <td>9.0</td>\n",
              "      <td>1.0</td>\n",
              "      <td>1.0</td>\n",
              "    </tr>\n",
              "    <tr>\n",
              "      <th>Pulsation Timing Variations</th>\n",
              "      <td>0.0</td>\n",
              "      <td>0.0</td>\n",
              "      <td>1.0</td>\n",
              "      <td>0.0</td>\n",
              "    </tr>\n",
              "    <tr>\n",
              "      <th>Radial Velocity</th>\n",
              "      <td>1.0</td>\n",
              "      <td>52.0</td>\n",
              "      <td>475.0</td>\n",
              "      <td>424.0</td>\n",
              "    </tr>\n",
              "    <tr>\n",
              "      <th>Transit</th>\n",
              "      <td>0.0</td>\n",
              "      <td>0.0</td>\n",
              "      <td>64.0</td>\n",
              "      <td>712.0</td>\n",
              "    </tr>\n",
              "    <tr>\n",
              "      <th>Transit Timing Variations</th>\n",
              "      <td>0.0</td>\n",
              "      <td>0.0</td>\n",
              "      <td>0.0</td>\n",
              "      <td>9.0</td>\n",
              "    </tr>\n",
              "  </tbody>\n",
              "</table>\n",
              "</div>"
            ],
            "text/plain": [
              "decade                         1980s  1990s  2000s  2010s\n",
              "method                                                   \n",
              "Astrometry                       0.0    0.0    0.0    2.0\n",
              "Eclipse Timing Variations        0.0    0.0    5.0   10.0\n",
              "Imaging                          0.0    0.0   29.0   21.0\n",
              "Microlensing                     0.0    0.0   12.0   15.0\n",
              "Orbital Brightness Modulation    0.0    0.0    0.0    5.0\n",
              "Pulsar Timing                    0.0    9.0    1.0    1.0\n",
              "Pulsation Timing Variations      0.0    0.0    1.0    0.0\n",
              "Radial Velocity                  1.0   52.0  475.0  424.0\n",
              "Transit                          0.0    0.0   64.0  712.0\n",
              "Transit Timing Variations        0.0    0.0    0.0    9.0"
            ]
          },
          "execution_count": 30,
          "metadata": {},
          "output_type": "execute_result"
        }
      ]
    },
    {
      "cell_type": "markdown",
      "metadata": {
        "id": "NR5KF-N_i9NR"
      },
      "source": [
        "This shows the power of combining many of the operations we've discussed up to this point when looking at realistic datasets.\n",
        "We immediately gain a coarse understanding of when and how planets have been discovered over the past several decades!\n",
        "\n",
        "Here I would suggest digging into these few lines of code, and evaluating the individual steps to make sure you understand exactly what they are doing to the result.\n",
        "It's certainly a somewhat complicated example, but understanding these pieces will give you the means to similarly explore your own data."
      ]
    },
    {
      "cell_type": "markdown",
      "metadata": {
        "id": "-MyX54a1i9NR"
      },
      "source": [
        "<!--NAVIGATION-->\n",
        "< [Combining Datasets: Merge and Join](03.07-Merge-and-Join.ipynb) | [Contents](Index.ipynb) | [Pivot Tables](03.09-Pivot-Tables.ipynb) >\n",
        "\n",
        "<a href=\"https://colab.research.google.com/github/jakevdp/PythonDataScienceHandbook/blob/master/notebooks/03.08-Aggregation-and-Grouping.ipynb\"><img align=\"left\" src=\"https://colab.research.google.com/assets/colab-badge.svg\" alt=\"Open in Colab\" title=\"Open and Execute in Google Colaboratory\"></a>\n"
      ]
    }
  ]
}