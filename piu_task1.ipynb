{
  "nbformat": 4,
  "nbformat_minor": 0,
  "metadata": {
    "colab": {
      "name": "piu task1.ipynb",
      "provenance": [],
      "collapsed_sections": []
    },
    "kernelspec": {
      "name": "python3",
      "display_name": "Python 3"
    },
    "language_info": {
      "name": "python"
    }
  },
  "cells": [
    {
      "cell_type": "code",
      "metadata": {
        "id": "WYl5BhjvtClH"
      },
      "source": [
        "import pandas as pd\n",
        "from pandas.api.types import is_string_dtype, is_numeric_dtype\n",
        "import pandas_profiling\n",
        "import numpy as np\n",
        "import re\n",
        "import requests\n",
        "from IPython.display import display\n",
        "import matplotlib.pyplot as plt\n",
        "import seaborn as sns\n",
        "from scipy.stats import norm\n",
        "from scipy import stats\n",
        "from sklearn.preprocessing import LabelEncoder, OneHotEncoder\n",
        "\n",
        "import warnings\n",
        "import types\n",
        "\n",
        "warnings.filterwarnings('ignore')"
      ],
      "execution_count": null,
      "outputs": []
    },
    {
      "cell_type": "code",
      "metadata": {
        "id": "ZTihy2xXtWDW",
        "colab": {
          "base_uri": "https://localhost:8080/"
        },
        "outputId": "452af283-4319-483b-e848-8a9f25914ce8"
      },
      "source": [
        "from google.colab import drive\n",
        "drive.mount('/content/drive')"
      ],
      "execution_count": null,
      "outputs": [
        {
          "output_type": "stream",
          "text": [
            "Mounted at /content/drive\n"
          ],
          "name": "stdout"
        }
      ]
    },
    {
      "cell_type": "code",
      "metadata": {
        "id": "lV_2icxQtjZN",
        "colab": {
          "base_uri": "https://localhost:8080/",
          "height": 419
        },
        "outputId": "4a5c2a81-8e67-47e1-ea7b-0d9887d79db9"
      },
      "source": [
        "#Read the task1_train data\n",
        "train_df = pd.read_csv(\"drive/My Drive/task1_train.csv\", low_memory=False, header=0)\n",
        "train_df"
      ],
      "execution_count": null,
      "outputs": [
        {
          "output_type": "execute_result",
          "data": {
            "text/html": [
              "<div>\n",
              "<style scoped>\n",
              "    .dataframe tbody tr th:only-of-type {\n",
              "        vertical-align: middle;\n",
              "    }\n",
              "\n",
              "    .dataframe tbody tr th {\n",
              "        vertical-align: top;\n",
              "    }\n",
              "\n",
              "    .dataframe thead th {\n",
              "        text-align: right;\n",
              "    }\n",
              "</style>\n",
              "<table border=\"1\" class=\"dataframe\">\n",
              "  <thead>\n",
              "    <tr style=\"text-align: right;\">\n",
              "      <th></th>\n",
              "      <th>id</th>\n",
              "      <th>amount_tsh</th>\n",
              "      <th>gps_height</th>\n",
              "      <th>longitude</th>\n",
              "      <th>latitude</th>\n",
              "      <th>num_private</th>\n",
              "      <th>population</th>\n",
              "      <th>status_group</th>\n",
              "    </tr>\n",
              "  </thead>\n",
              "  <tbody>\n",
              "    <tr>\n",
              "      <th>0</th>\n",
              "      <td>17667</td>\n",
              "      <td>250.0</td>\n",
              "      <td>1409</td>\n",
              "      <td>29.936235</td>\n",
              "      <td>-4.422470e+00</td>\n",
              "      <td>0</td>\n",
              "      <td>370</td>\n",
              "      <td>functional needs repair</td>\n",
              "    </tr>\n",
              "    <tr>\n",
              "      <th>1</th>\n",
              "      <td>73543</td>\n",
              "      <td>0.0</td>\n",
              "      <td>436</td>\n",
              "      <td>34.607098</td>\n",
              "      <td>-1.055015e+01</td>\n",
              "      <td>0</td>\n",
              "      <td>160</td>\n",
              "      <td>functional needs repair</td>\n",
              "    </tr>\n",
              "    <tr>\n",
              "      <th>2</th>\n",
              "      <td>29657</td>\n",
              "      <td>0.0</td>\n",
              "      <td>0</td>\n",
              "      <td>0.000000</td>\n",
              "      <td>-2.000000e-08</td>\n",
              "      <td>0</td>\n",
              "      <td>0</td>\n",
              "      <td>functional needs repair</td>\n",
              "    </tr>\n",
              "    <tr>\n",
              "      <th>3</th>\n",
              "      <td>12515</td>\n",
              "      <td>0.0</td>\n",
              "      <td>991</td>\n",
              "      <td>30.394823</td>\n",
              "      <td>-5.106162e+00</td>\n",
              "      <td>0</td>\n",
              "      <td>550</td>\n",
              "      <td>functional needs repair</td>\n",
              "    </tr>\n",
              "    <tr>\n",
              "      <th>4</th>\n",
              "      <td>18756</td>\n",
              "      <td>0.0</td>\n",
              "      <td>0</td>\n",
              "      <td>33.002953</td>\n",
              "      <td>-9.064479e+00</td>\n",
              "      <td>0</td>\n",
              "      <td>0</td>\n",
              "      <td>others</td>\n",
              "    </tr>\n",
              "    <tr>\n",
              "      <th>...</th>\n",
              "      <td>...</td>\n",
              "      <td>...</td>\n",
              "      <td>...</td>\n",
              "      <td>...</td>\n",
              "      <td>...</td>\n",
              "      <td>...</td>\n",
              "      <td>...</td>\n",
              "      <td>...</td>\n",
              "    </tr>\n",
              "    <tr>\n",
              "      <th>6902</th>\n",
              "      <td>38745</td>\n",
              "      <td>20.0</td>\n",
              "      <td>506</td>\n",
              "      <td>39.298712</td>\n",
              "      <td>-1.069067e+01</td>\n",
              "      <td>0</td>\n",
              "      <td>1</td>\n",
              "      <td>functional needs repair</td>\n",
              "    </tr>\n",
              "    <tr>\n",
              "      <th>6903</th>\n",
              "      <td>27918</td>\n",
              "      <td>500.0</td>\n",
              "      <td>1227</td>\n",
              "      <td>36.908360</td>\n",
              "      <td>-3.356076e+00</td>\n",
              "      <td>0</td>\n",
              "      <td>120</td>\n",
              "      <td>functional needs repair</td>\n",
              "    </tr>\n",
              "    <tr>\n",
              "      <th>6904</th>\n",
              "      <td>22550</td>\n",
              "      <td>0.0</td>\n",
              "      <td>0</td>\n",
              "      <td>30.686126</td>\n",
              "      <td>-1.252510e+00</td>\n",
              "      <td>0</td>\n",
              "      <td>0</td>\n",
              "      <td>functional needs repair</td>\n",
              "    </tr>\n",
              "    <tr>\n",
              "      <th>6905</th>\n",
              "      <td>19770</td>\n",
              "      <td>0.0</td>\n",
              "      <td>0</td>\n",
              "      <td>31.318268</td>\n",
              "      <td>-2.645071e+00</td>\n",
              "      <td>0</td>\n",
              "      <td>0</td>\n",
              "      <td>functional needs repair</td>\n",
              "    </tr>\n",
              "    <tr>\n",
              "      <th>6906</th>\n",
              "      <td>52054</td>\n",
              "      <td>500.0</td>\n",
              "      <td>392</td>\n",
              "      <td>36.728161</td>\n",
              "      <td>-8.898639e+00</td>\n",
              "      <td>0</td>\n",
              "      <td>180</td>\n",
              "      <td>functional needs repair</td>\n",
              "    </tr>\n",
              "  </tbody>\n",
              "</table>\n",
              "<p>6907 rows × 8 columns</p>\n",
              "</div>"
            ],
            "text/plain": [
              "         id  amount_tsh  ...  population             status_group\n",
              "0     17667       250.0  ...         370  functional needs repair\n",
              "1     73543         0.0  ...         160  functional needs repair\n",
              "2     29657         0.0  ...           0  functional needs repair\n",
              "3     12515         0.0  ...         550  functional needs repair\n",
              "4     18756         0.0  ...           0                   others\n",
              "...     ...         ...  ...         ...                      ...\n",
              "6902  38745        20.0  ...           1  functional needs repair\n",
              "6903  27918       500.0  ...         120  functional needs repair\n",
              "6904  22550         0.0  ...           0  functional needs repair\n",
              "6905  19770         0.0  ...           0  functional needs repair\n",
              "6906  52054       500.0  ...         180  functional needs repair\n",
              "\n",
              "[6907 rows x 8 columns]"
            ]
          },
          "metadata": {
            "tags": []
          },
          "execution_count": 6
        }
      ]
    },
    {
      "cell_type": "code",
      "metadata": {
        "id": "Y2_EfnRZ1U7-",
        "colab": {
          "base_uri": "https://localhost:8080/",
          "height": 419
        },
        "outputId": "7e85b3e3-7008-4391-b3cb-ee2730083371"
      },
      "source": [
        "#Read the task1_test data\n",
        "test_df = pd.read_csv(\"drive/My Drive/task1_test.csv\", low_memory=False, header=1)\n",
        "test_df"
      ],
      "execution_count": null,
      "outputs": [
        {
          "output_type": "execute_result",
          "data": {
            "text/html": [
              "<div>\n",
              "<style scoped>\n",
              "    .dataframe tbody tr th:only-of-type {\n",
              "        vertical-align: middle;\n",
              "    }\n",
              "\n",
              "    .dataframe tbody tr th {\n",
              "        vertical-align: top;\n",
              "    }\n",
              "\n",
              "    .dataframe thead th {\n",
              "        text-align: right;\n",
              "    }\n",
              "</style>\n",
              "<table border=\"1\" class=\"dataframe\">\n",
              "  <thead>\n",
              "    <tr style=\"text-align: right;\">\n",
              "      <th></th>\n",
              "      <th>45786</th>\n",
              "      <th>0.0</th>\n",
              "      <th>0</th>\n",
              "      <th>34.02336747</th>\n",
              "      <th>-3.53830192</th>\n",
              "      <th>0.1</th>\n",
              "      <th>0.2</th>\n",
              "      <th>functional needs repair</th>\n",
              "    </tr>\n",
              "  </thead>\n",
              "  <tbody>\n",
              "    <tr>\n",
              "      <th>0</th>\n",
              "      <td>39181</td>\n",
              "      <td>0.0</td>\n",
              "      <td>1141</td>\n",
              "      <td>36.901475</td>\n",
              "      <td>-3.391345</td>\n",
              "      <td>0</td>\n",
              "      <td>360</td>\n",
              "      <td>others</td>\n",
              "    </tr>\n",
              "    <tr>\n",
              "      <th>1</th>\n",
              "      <td>60073</td>\n",
              "      <td>0.0</td>\n",
              "      <td>1236</td>\n",
              "      <td>34.842991</td>\n",
              "      <td>-6.074815</td>\n",
              "      <td>0</td>\n",
              "      <td>300</td>\n",
              "      <td>others</td>\n",
              "    </tr>\n",
              "    <tr>\n",
              "      <th>2</th>\n",
              "      <td>10708</td>\n",
              "      <td>300.0</td>\n",
              "      <td>1327</td>\n",
              "      <td>37.200640</td>\n",
              "      <td>-3.228018</td>\n",
              "      <td>0</td>\n",
              "      <td>35</td>\n",
              "      <td>others</td>\n",
              "    </tr>\n",
              "    <tr>\n",
              "      <th>3</th>\n",
              "      <td>60497</td>\n",
              "      <td>0.0</td>\n",
              "      <td>0</td>\n",
              "      <td>31.517362</td>\n",
              "      <td>-1.601114</td>\n",
              "      <td>0</td>\n",
              "      <td>0</td>\n",
              "      <td>functional needs repair</td>\n",
              "    </tr>\n",
              "    <tr>\n",
              "      <th>4</th>\n",
              "      <td>60650</td>\n",
              "      <td>0.0</td>\n",
              "      <td>0</td>\n",
              "      <td>36.815359</td>\n",
              "      <td>-6.306212</td>\n",
              "      <td>0</td>\n",
              "      <td>0</td>\n",
              "      <td>others</td>\n",
              "    </tr>\n",
              "    <tr>\n",
              "      <th>...</th>\n",
              "      <td>...</td>\n",
              "      <td>...</td>\n",
              "      <td>...</td>\n",
              "      <td>...</td>\n",
              "      <td>...</td>\n",
              "      <td>...</td>\n",
              "      <td>...</td>\n",
              "      <td>...</td>\n",
              "    </tr>\n",
              "    <tr>\n",
              "      <th>1721</th>\n",
              "      <td>40993</td>\n",
              "      <td>500.0</td>\n",
              "      <td>1428</td>\n",
              "      <td>34.597312</td>\n",
              "      <td>-8.947388</td>\n",
              "      <td>0</td>\n",
              "      <td>250</td>\n",
              "      <td>functional needs repair</td>\n",
              "    </tr>\n",
              "    <tr>\n",
              "      <th>1722</th>\n",
              "      <td>52924</td>\n",
              "      <td>0.0</td>\n",
              "      <td>0</td>\n",
              "      <td>36.552113</td>\n",
              "      <td>-6.687545</td>\n",
              "      <td>0</td>\n",
              "      <td>0</td>\n",
              "      <td>others</td>\n",
              "    </tr>\n",
              "    <tr>\n",
              "      <th>1723</th>\n",
              "      <td>55202</td>\n",
              "      <td>0.0</td>\n",
              "      <td>0</td>\n",
              "      <td>33.517984</td>\n",
              "      <td>-3.430887</td>\n",
              "      <td>0</td>\n",
              "      <td>0</td>\n",
              "      <td>others</td>\n",
              "    </tr>\n",
              "    <tr>\n",
              "      <th>1724</th>\n",
              "      <td>2071</td>\n",
              "      <td>0.0</td>\n",
              "      <td>1417</td>\n",
              "      <td>36.748423</td>\n",
              "      <td>-3.079985</td>\n",
              "      <td>0</td>\n",
              "      <td>150</td>\n",
              "      <td>functional needs repair</td>\n",
              "    </tr>\n",
              "    <tr>\n",
              "      <th>1725</th>\n",
              "      <td>30579</td>\n",
              "      <td>0.0</td>\n",
              "      <td>1021</td>\n",
              "      <td>37.823783</td>\n",
              "      <td>-4.158500</td>\n",
              "      <td>0</td>\n",
              "      <td>12</td>\n",
              "      <td>others</td>\n",
              "    </tr>\n",
              "  </tbody>\n",
              "</table>\n",
              "<p>1726 rows × 8 columns</p>\n",
              "</div>"
            ],
            "text/plain": [
              "      45786    0.0     0  ...  0.1  0.2  functional needs repair\n",
              "0     39181    0.0  1141  ...    0  360                   others\n",
              "1     60073    0.0  1236  ...    0  300                   others\n",
              "2     10708  300.0  1327  ...    0   35                   others\n",
              "3     60497    0.0     0  ...    0    0  functional needs repair\n",
              "4     60650    0.0     0  ...    0    0                   others\n",
              "...     ...    ...   ...  ...  ...  ...                      ...\n",
              "1721  40993  500.0  1428  ...    0  250  functional needs repair\n",
              "1722  52924    0.0     0  ...    0    0                   others\n",
              "1723  55202    0.0     0  ...    0    0                   others\n",
              "1724   2071    0.0  1417  ...    0  150  functional needs repair\n",
              "1725  30579    0.0  1021  ...    0   12                   others\n",
              "\n",
              "[1726 rows x 8 columns]"
            ]
          },
          "metadata": {
            "tags": []
          },
          "execution_count": 4
        }
      ]
    },
    {
      "cell_type": "code",
      "metadata": {
        "colab": {
          "base_uri": "https://localhost:8080/",
          "height": 419
        },
        "id": "sctbMyu78owb",
        "outputId": "86201add-8804-4a2d-d5be-9165b566f411"
      },
      "source": [
        "#Read the task1_test data\n",
        "nolabels_test_df = pd.read_csv(\"drive/My Drive/task1_test_nolabels.csv\", low_memory=False, header=1)\n",
        "nolabels_test_df"
      ],
      "execution_count": null,
      "outputs": [
        {
          "output_type": "execute_result",
          "data": {
            "text/html": [
              "<div>\n",
              "<style scoped>\n",
              "    .dataframe tbody tr th:only-of-type {\n",
              "        vertical-align: middle;\n",
              "    }\n",
              "\n",
              "    .dataframe tbody tr th {\n",
              "        vertical-align: top;\n",
              "    }\n",
              "\n",
              "    .dataframe thead th {\n",
              "        text-align: right;\n",
              "    }\n",
              "</style>\n",
              "<table border=\"1\" class=\"dataframe\">\n",
              "  <thead>\n",
              "    <tr style=\"text-align: right;\">\n",
              "      <th></th>\n",
              "      <th>45786</th>\n",
              "      <th>0.0</th>\n",
              "      <th>0</th>\n",
              "      <th>34.02336747</th>\n",
              "      <th>-3.53830192</th>\n",
              "      <th>0.1</th>\n",
              "      <th>0.2</th>\n",
              "    </tr>\n",
              "  </thead>\n",
              "  <tbody>\n",
              "    <tr>\n",
              "      <th>0</th>\n",
              "      <td>39181</td>\n",
              "      <td>0.0</td>\n",
              "      <td>1141</td>\n",
              "      <td>36.901475</td>\n",
              "      <td>-3.391345</td>\n",
              "      <td>0</td>\n",
              "      <td>360</td>\n",
              "    </tr>\n",
              "    <tr>\n",
              "      <th>1</th>\n",
              "      <td>60073</td>\n",
              "      <td>0.0</td>\n",
              "      <td>1236</td>\n",
              "      <td>34.842991</td>\n",
              "      <td>-6.074815</td>\n",
              "      <td>0</td>\n",
              "      <td>300</td>\n",
              "    </tr>\n",
              "    <tr>\n",
              "      <th>2</th>\n",
              "      <td>10708</td>\n",
              "      <td>300.0</td>\n",
              "      <td>1327</td>\n",
              "      <td>37.200640</td>\n",
              "      <td>-3.228018</td>\n",
              "      <td>0</td>\n",
              "      <td>35</td>\n",
              "    </tr>\n",
              "    <tr>\n",
              "      <th>3</th>\n",
              "      <td>60497</td>\n",
              "      <td>0.0</td>\n",
              "      <td>0</td>\n",
              "      <td>31.517362</td>\n",
              "      <td>-1.601114</td>\n",
              "      <td>0</td>\n",
              "      <td>0</td>\n",
              "    </tr>\n",
              "    <tr>\n",
              "      <th>4</th>\n",
              "      <td>60650</td>\n",
              "      <td>0.0</td>\n",
              "      <td>0</td>\n",
              "      <td>36.815359</td>\n",
              "      <td>-6.306212</td>\n",
              "      <td>0</td>\n",
              "      <td>0</td>\n",
              "    </tr>\n",
              "    <tr>\n",
              "      <th>...</th>\n",
              "      <td>...</td>\n",
              "      <td>...</td>\n",
              "      <td>...</td>\n",
              "      <td>...</td>\n",
              "      <td>...</td>\n",
              "      <td>...</td>\n",
              "      <td>...</td>\n",
              "    </tr>\n",
              "    <tr>\n",
              "      <th>1721</th>\n",
              "      <td>40993</td>\n",
              "      <td>500.0</td>\n",
              "      <td>1428</td>\n",
              "      <td>34.597312</td>\n",
              "      <td>-8.947388</td>\n",
              "      <td>0</td>\n",
              "      <td>250</td>\n",
              "    </tr>\n",
              "    <tr>\n",
              "      <th>1722</th>\n",
              "      <td>52924</td>\n",
              "      <td>0.0</td>\n",
              "      <td>0</td>\n",
              "      <td>36.552113</td>\n",
              "      <td>-6.687545</td>\n",
              "      <td>0</td>\n",
              "      <td>0</td>\n",
              "    </tr>\n",
              "    <tr>\n",
              "      <th>1723</th>\n",
              "      <td>55202</td>\n",
              "      <td>0.0</td>\n",
              "      <td>0</td>\n",
              "      <td>33.517984</td>\n",
              "      <td>-3.430887</td>\n",
              "      <td>0</td>\n",
              "      <td>0</td>\n",
              "    </tr>\n",
              "    <tr>\n",
              "      <th>1724</th>\n",
              "      <td>2071</td>\n",
              "      <td>0.0</td>\n",
              "      <td>1417</td>\n",
              "      <td>36.748423</td>\n",
              "      <td>-3.079985</td>\n",
              "      <td>0</td>\n",
              "      <td>150</td>\n",
              "    </tr>\n",
              "    <tr>\n",
              "      <th>1725</th>\n",
              "      <td>30579</td>\n",
              "      <td>0.0</td>\n",
              "      <td>1021</td>\n",
              "      <td>37.823783</td>\n",
              "      <td>-4.158500</td>\n",
              "      <td>0</td>\n",
              "      <td>12</td>\n",
              "    </tr>\n",
              "  </tbody>\n",
              "</table>\n",
              "<p>1726 rows × 7 columns</p>\n",
              "</div>"
            ],
            "text/plain": [
              "      45786    0.0     0  34.02336747  -3.53830192  0.1  0.2\n",
              "0     39181    0.0  1141    36.901475    -3.391345    0  360\n",
              "1     60073    0.0  1236    34.842991    -6.074815    0  300\n",
              "2     10708  300.0  1327    37.200640    -3.228018    0   35\n",
              "3     60497    0.0     0    31.517362    -1.601114    0    0\n",
              "4     60650    0.0     0    36.815359    -6.306212    0    0\n",
              "...     ...    ...   ...          ...          ...  ...  ...\n",
              "1721  40993  500.0  1428    34.597312    -8.947388    0  250\n",
              "1722  52924    0.0     0    36.552113    -6.687545    0    0\n",
              "1723  55202    0.0     0    33.517984    -3.430887    0    0\n",
              "1724   2071    0.0  1417    36.748423    -3.079985    0  150\n",
              "1725  30579    0.0  1021    37.823783    -4.158500    0   12\n",
              "\n",
              "[1726 rows x 7 columns]"
            ]
          },
          "metadata": {
            "tags": []
          },
          "execution_count": 8
        }
      ]
    },
    {
      "cell_type": "code",
      "metadata": {
        "id": "A_FU3yXN84gF",
        "colab": {
          "base_uri": "https://localhost:8080/"
        },
        "outputId": "653691a3-4ca9-4e1f-9581-61d7641ee534"
      },
      "source": [
        "nolabels_test_df.shape"
      ],
      "execution_count": null,
      "outputs": [
        {
          "output_type": "execute_result",
          "data": {
            "text/plain": [
              "(1726, 7)"
            ]
          },
          "metadata": {
            "tags": []
          },
          "execution_count": 9
        }
      ]
    },
    {
      "cell_type": "code",
      "metadata": {
        "colab": {
          "base_uri": "https://localhost:8080/"
        },
        "id": "8CLXf75s14h7",
        "outputId": "2c62aa0f-4de9-4c1c-eda9-4a5b7abeb982"
      },
      "source": [
        "train_df.columns"
      ],
      "execution_count": null,
      "outputs": [
        {
          "output_type": "execute_result",
          "data": {
            "text/plain": [
              "Index(['id', 'amount_tsh', 'gps_height', 'longitude', 'latitude',\n",
              "       'num_private', 'population', 'status_group'],\n",
              "      dtype='object')"
            ]
          },
          "metadata": {
            "tags": []
          },
          "execution_count": 7
        }
      ]
    },
    {
      "cell_type": "code",
      "metadata": {
        "id": "4TscABxf17pB",
        "colab": {
          "base_uri": "https://localhost:8080/"
        },
        "outputId": "cd7470df-0fc1-4478-f633-3e8e725d570b"
      },
      "source": [
        "test_df.shape"
      ],
      "execution_count": null,
      "outputs": [
        {
          "output_type": "execute_result",
          "data": {
            "text/plain": [
              "(1726, 8)"
            ]
          },
          "metadata": {
            "tags": []
          },
          "execution_count": 137
        }
      ]
    },
    {
      "cell_type": "code",
      "metadata": {
        "id": "aheD5DiW13XK",
        "colab": {
          "base_uri": "https://localhost:8080/",
          "height": 609
        },
        "outputId": "631ffd63-79d1-4f07-8a3c-cfab74781546"
      },
      "source": [
        "# Check if there missing values in test set\n",
        "ax = test_df.isna().sum().sort_values().plot(kind = 'barh', figsize = (9, 10))\n",
        "plt.title('Percentage of Missing Values Per Column in Test Set', fontdict={'size':15})\n",
        "\n",
        "for p in ax.patches:\n",
        "    percentage ='{:,.1f}%'.format((p.get_width()/test_df.shape[0])*100)\n",
        "    width, height =p.get_width(),p.get_height()\n",
        "    x=p.get_x()+width+0.02\n",
        "    y=p.get_y()+height/2\n",
        "    ax.annotate(percentage,(x,y))"
      ],
      "execution_count": null,
      "outputs": [
        {
          "output_type": "display_data",
          "data": {
            "image/png": "[encoded data removed]",
            "text/plain": [
              "<Figure size 648x720 with 1 Axes>"
            ]
          },
          "metadata": {
            "tags": [],
            "needs_background": "light"
          }
        }
      ]
    },
    {
      "cell_type": "code",
      "metadata": {
        "id": "kouOtC9Gtu8V",
        "colab": {
          "base_uri": "https://localhost:8080/"
        },
        "outputId": "a5d51593-34d5-47e3-89b0-590905c544be"
      },
      "source": [
        "train_df.shape"
      ],
      "execution_count": null,
      "outputs": [
        {
          "output_type": "execute_result",
          "data": {
            "text/plain": [
              "(6906, 8)"
            ]
          },
          "metadata": {
            "tags": []
          },
          "execution_count": 139
        }
      ]
    },
    {
      "cell_type": "code",
      "metadata": {
        "id": "FwKzVOzQv7O1",
        "colab": {
          "base_uri": "https://localhost:8080/"
        },
        "outputId": "f1092e32-d9dc-4a1a-973e-028a456cd67d"
      },
      "source": [
        "train_df.dtypes"
      ],
      "execution_count": null,
      "outputs": [
        {
          "output_type": "execute_result",
          "data": {
            "text/plain": [
              "id                int64\n",
              "amount_tsh      float64\n",
              "gps_height        int64\n",
              "longitude       float64\n",
              "latitude        float64\n",
              "num_private       int64\n",
              "population        int64\n",
              "status_group     object\n",
              "dtype: object"
            ]
          },
          "metadata": {
            "tags": []
          },
          "execution_count": 113
        }
      ]
    },
    {
      "cell_type": "code",
      "metadata": {
        "id": "bf22atZTv97S",
        "colab": {
          "base_uri": "https://localhost:8080/"
        },
        "outputId": "92322dc1-e0e2-4741-e9db-607b10c729f0"
      },
      "source": [
        "#Check for missing values\n",
        "train_df.isna().sum()"
      ],
      "execution_count": null,
      "outputs": [
        {
          "output_type": "execute_result",
          "data": {
            "text/plain": [
              "id              0\n",
              "amount_tsh      0\n",
              "gps_height      0\n",
              "longitude       0\n",
              "latitude        0\n",
              "num_private     0\n",
              "population      0\n",
              "status_group    0\n",
              "dtype: int64"
            ]
          },
          "metadata": {
            "tags": []
          },
          "execution_count": 114
        }
      ]
    },
    {
      "cell_type": "code",
      "metadata": {
        "id": "D3javRPD0JFK",
        "colab": {
          "base_uri": "https://localhost:8080/"
        },
        "outputId": "b60486cc-caa9-42eb-d336-a6d5ec686f46"
      },
      "source": [
        "#Check for duplicates\n",
        "train_df.duplicated().any()"
      ],
      "execution_count": null,
      "outputs": [
        {
          "output_type": "execute_result",
          "data": {
            "text/plain": [
              "False"
            ]
          },
          "metadata": {
            "tags": []
          },
          "execution_count": 115
        }
      ]
    },
    {
      "cell_type": "markdown",
      "metadata": {
        "id": "FZwFZGZ00U5W"
      },
      "source": [
        "Now that we do not have duplicate thats good "
      ]
    },
    {
      "cell_type": "code",
      "metadata": {
        "id": "74W-oNSZyaNP",
        "colab": {
          "base_uri": "https://localhost:8080/",
          "height": 390
        },
        "cellView": "form",
        "outputId": "4a4de911-ced6-46f4-8c19-20e2a67ce410"
      },
      "source": [
        ""
      ],
      "execution_count": null,
      "outputs": [
        {
          "output_type": "display_data",
          "data": {
            "image/png": "[encoded data removed]",
            "text/plain": [
              "<Figure size 504x432 with 1 Axes>"
            ]
          },
          "metadata": {
            "tags": [],
            "needs_background": "light"
          }
        }
      ]
    },
    {
      "cell_type": "code",
      "metadata": {
        "colab": {
          "base_uri": "https://localhost:8080/"
        },
        "id": "7J0fWXpVS19V",
        "outputId": "38a16360-d105-4666-8714-22b7878997cf"
      },
      "source": [
        "#Hwre we will divide data for training\n",
        "ntrain = train_df.shape[0] #will be used to seperate the train and test data from the combined dataset\n",
        "\n",
        "combined_df = pd.concat((train_df, test_df)).reset_index(drop=True)\n",
        "print(f'shape of the combined data is {combined_df.shape}')\n",
        "\n"
      ],
      "execution_count": null,
      "outputs": [
        {
          "output_type": "stream",
          "text": [
            "shape of the combined data is (8632, 14)\n"
          ],
          "name": "stdout"
        }
      ]
    },
    {
      "cell_type": "code",
      "metadata": {
        "colab": {
          "base_uri": "https://localhost:8080/"
        },
        "id": "wQNItVx5UlZy",
        "outputId": "5683c115-5c65-4742-854a-a2728ed4b8d0"
      },
      "source": [
        "print(combined_df.iloc[:,-1].unique())"
      ],
      "execution_count": null,
      "outputs": [
        {
          "output_type": "stream",
          "text": [
            "[      nan 3.600e+02 3.000e+02 3.500e+01 0.000e+00 4.670e+02 1.000e+00\n",
            " 1.950e+02 6.000e+02 6.800e+02 1.300e+02 4.200e+02 2.000e+03 5.000e+01\n",
            " 2.300e+02 4.000e+02 5.160e+02 1.690e+02 2.000e+02 4.000e+01 2.680e+02\n",
            " 3.000e+01 8.000e+02 1.700e+03 3.500e+02 1.000e+02 2.000e+01 1.200e+02\n",
            " 6.300e+02 1.400e+02 5.000e+02 1.700e+02 2.500e+02 3.200e+02 2.500e+01\n",
            " 9.600e+01 5.200e+01 4.500e+01 2.400e+01 2.110e+02 2.100e+02 2.500e+03\n",
            " 2.620e+02 6.980e+02 1.000e+01 8.200e+02 1.170e+02 7.500e+01 4.500e+02\n",
            " 5.500e+01 2.010e+02 1.500e+02 9.800e+01 6.000e+01 1.890e+02 6.600e+02\n",
            " 5.430e+02 5.700e+02 5.200e+02 3.170e+02 4.750e+02 7.500e+02 5.400e+02\n",
            " 8.000e+01 2.060e+02 7.460e+02 2.560e+02 4.300e+02 1.000e+03 5.300e+02\n",
            " 6.500e+02 2.160e+02 2.090e+02 2.450e+02 5.600e+01 4.600e+02 1.450e+02\n",
            " 7.000e+02 1.500e+03 4.800e+01 1.800e+01 2.190e+02 5.290e+02 1.750e+02\n",
            " 3.680e+02 9.900e+01 1.300e+03 7.000e+01 1.230e+03 1.280e+02 2.400e+02\n",
            " 3.700e+02 1.850e+02 2.510e+02 1.230e+02 5.600e+02 4.100e+02 1.500e+01\n",
            " 1.520e+02 9.000e+01 2.630e+02 1.340e+02 9.500e+01 2.200e+02 3.400e+02\n",
            " 7.800e+01 2.150e+02 5.500e+02 2.100e+03 3.000e+03 3.550e+02 2.490e+02\n",
            " 7.600e+02 7.900e+01 4.120e+02 8.500e+01 1.250e+02 3.420e+02 2.300e+01\n",
            " 6.550e+02 5.800e+02 8.160e+02 1.820e+02 3.250e+02 6.900e+01 8.600e+02\n",
            " 2.050e+02 1.550e+02 2.280e+02 1.070e+02 6.500e+01 4.200e+01 4.560e+02\n",
            " 6.200e+01 3.690e+02 1.290e+02 2.530e+02 7.710e+02 1.200e+03 2.360e+02\n",
            " 2.730e+02 7.690e+02 1.350e+02 1.100e+02 1.240e+02 2.300e+03 2.700e+02\n",
            " 1.054e+03 2.900e+02 1.470e+03 3.800e+02 1.200e+01 2.390e+02 8.600e+01\n",
            " 1.600e+02 9.100e+01 3.150e+02 2.350e+02 2.910e+02 4.450e+02 5.000e+00\n",
            " 2.540e+02 9.560e+02 4.370e+02 3.900e+02 5.980e+02 3.350e+02 1.800e+02\n",
            " 4.280e+02 1.650e+02 1.720e+03 2.250e+02 2.740e+02 5.850e+02 1.720e+02\n",
            " 5.400e+01 9.500e+02 2.340e+02 6.100e+01 7.600e+01 4.500e+03 5.230e+02\n",
            " 1.140e+02 1.251e+03 6.970e+02 5.240e+02 2.900e+01 2.130e+02 7.400e+02\n",
            " 1.185e+03 7.350e+02 1.400e+03 5.100e+02 3.360e+02 8.100e+02 2.430e+02\n",
            " 3.050e+02 1.020e+03 1.430e+03 7.900e+02 7.560e+02 4.700e+02 2.140e+02\n",
            " 1.900e+02 8.200e+01 6.800e+01 7.550e+02 3.600e+01 4.350e+02 1.530e+02\n",
            " 8.660e+02 9.500e+03 6.790e+02 9.200e+01 4.950e+02 8.100e+01 5.300e+01\n",
            " 1.260e+02 1.780e+02 3.400e+01 8.050e+02 2.220e+02 1.240e+03 8.500e+02\n",
            " 1.600e+01 1.980e+02 4.900e+02 2.970e+02 4.520e+02 1.560e+02 5.420e+02\n",
            " 4.270e+02 2.580e+02 2.170e+02 5.250e+02 2.750e+02 4.870e+02 2.200e+03\n",
            " 4.650e+02 2.880e+02]\n"
          ],
          "name": "stdout"
        }
      ]
    },
    {
      "cell_type": "code",
      "metadata": {
        "id": "73zmv0lvae7t"
      },
      "source": [
        "#Split the combined data\n",
        "train = combined_df[:ntrain]\n",
        "test = combined_df[ntrain:]"
      ],
      "execution_count": null,
      "outputs": []
    },
    {
      "cell_type": "code",
      "metadata": {
        "colab": {
          "base_uri": "https://localhost:8080/"
        },
        "id": "9uVW64sDb4St",
        "outputId": "2969d7eb-df99-4032-dfff-3b5bd6b56e4f"
      },
      "source": [
        "train.shape, test.shape"
      ],
      "execution_count": null,
      "outputs": [
        {
          "output_type": "execute_result",
          "data": {
            "text/plain": [
              "((6907, 8), (1727, 8))"
            ]
          },
          "metadata": {
            "tags": []
          },
          "execution_count": 121
        }
      ]
    },
    {
      "cell_type": "code",
      "metadata": {
        "id": "4zP_koJcb-Vr"
      },
      "source": [
        "#Split the input(X) and output(Y) of the data\n",
        "main_cols = combined_df.columns.difference(['status_group', 'id'])\n",
        "X = combined_df[main_cols].astype(float)\n",
        "Y = combined_df[\"status_group\"]"
      ],
      "execution_count": null,
      "outputs": []
    },
    {
      "cell_type": "code",
      "metadata": {
        "colab": {
          "base_uri": "https://localhost:8080/",
          "height": 419
        },
        "id": "N9nvhSNCvwLA",
        "outputId": "20b28be8-f87c-4068-e230-b7709d91d4e5"
      },
      "source": [
        "X"
      ],
      "execution_count": null,
      "outputs": [
        {
          "output_type": "execute_result",
          "data": {
            "text/html": [
              "<div>\n",
              "<style scoped>\n",
              "    .dataframe tbody tr th:only-of-type {\n",
              "        vertical-align: middle;\n",
              "    }\n",
              "\n",
              "    .dataframe tbody tr th {\n",
              "        vertical-align: top;\n",
              "    }\n",
              "\n",
              "    .dataframe thead th {\n",
              "        text-align: right;\n",
              "    }\n",
              "</style>\n",
              "<table border=\"1\" class=\"dataframe\">\n",
              "  <thead>\n",
              "    <tr style=\"text-align: right;\">\n",
              "      <th></th>\n",
              "      <th>amount_tsh</th>\n",
              "      <th>gps_height</th>\n",
              "      <th>latitude</th>\n",
              "      <th>longitude</th>\n",
              "      <th>num_private</th>\n",
              "      <th>population</th>\n",
              "    </tr>\n",
              "  </thead>\n",
              "  <tbody>\n",
              "    <tr>\n",
              "      <th>0</th>\n",
              "      <td>250.0</td>\n",
              "      <td>1409.0</td>\n",
              "      <td>-4.422470e+00</td>\n",
              "      <td>29.936235</td>\n",
              "      <td>0.0</td>\n",
              "      <td>370.0</td>\n",
              "    </tr>\n",
              "    <tr>\n",
              "      <th>1</th>\n",
              "      <td>0.0</td>\n",
              "      <td>436.0</td>\n",
              "      <td>-1.055015e+01</td>\n",
              "      <td>34.607098</td>\n",
              "      <td>0.0</td>\n",
              "      <td>160.0</td>\n",
              "    </tr>\n",
              "    <tr>\n",
              "      <th>2</th>\n",
              "      <td>0.0</td>\n",
              "      <td>0.0</td>\n",
              "      <td>-2.000000e-08</td>\n",
              "      <td>0.000000</td>\n",
              "      <td>0.0</td>\n",
              "      <td>0.0</td>\n",
              "    </tr>\n",
              "    <tr>\n",
              "      <th>3</th>\n",
              "      <td>0.0</td>\n",
              "      <td>991.0</td>\n",
              "      <td>-5.106162e+00</td>\n",
              "      <td>30.394823</td>\n",
              "      <td>0.0</td>\n",
              "      <td>550.0</td>\n",
              "    </tr>\n",
              "    <tr>\n",
              "      <th>4</th>\n",
              "      <td>0.0</td>\n",
              "      <td>0.0</td>\n",
              "      <td>-9.064479e+00</td>\n",
              "      <td>33.002953</td>\n",
              "      <td>0.0</td>\n",
              "      <td>0.0</td>\n",
              "    </tr>\n",
              "    <tr>\n",
              "      <th>...</th>\n",
              "      <td>...</td>\n",
              "      <td>...</td>\n",
              "      <td>...</td>\n",
              "      <td>...</td>\n",
              "      <td>...</td>\n",
              "      <td>...</td>\n",
              "    </tr>\n",
              "    <tr>\n",
              "      <th>8629</th>\n",
              "      <td>500.0</td>\n",
              "      <td>1428.0</td>\n",
              "      <td>-8.947388e+00</td>\n",
              "      <td>34.597312</td>\n",
              "      <td>0.0</td>\n",
              "      <td>250.0</td>\n",
              "    </tr>\n",
              "    <tr>\n",
              "      <th>8630</th>\n",
              "      <td>0.0</td>\n",
              "      <td>0.0</td>\n",
              "      <td>-6.687545e+00</td>\n",
              "      <td>36.552113</td>\n",
              "      <td>0.0</td>\n",
              "      <td>0.0</td>\n",
              "    </tr>\n",
              "    <tr>\n",
              "      <th>8631</th>\n",
              "      <td>0.0</td>\n",
              "      <td>0.0</td>\n",
              "      <td>-3.430887e+00</td>\n",
              "      <td>33.517984</td>\n",
              "      <td>0.0</td>\n",
              "      <td>0.0</td>\n",
              "    </tr>\n",
              "    <tr>\n",
              "      <th>8632</th>\n",
              "      <td>0.0</td>\n",
              "      <td>1417.0</td>\n",
              "      <td>-3.079985e+00</td>\n",
              "      <td>36.748423</td>\n",
              "      <td>0.0</td>\n",
              "      <td>150.0</td>\n",
              "    </tr>\n",
              "    <tr>\n",
              "      <th>8633</th>\n",
              "      <td>0.0</td>\n",
              "      <td>1021.0</td>\n",
              "      <td>-4.158500e+00</td>\n",
              "      <td>37.823783</td>\n",
              "      <td>0.0</td>\n",
              "      <td>12.0</td>\n",
              "    </tr>\n",
              "  </tbody>\n",
              "</table>\n",
              "<p>8634 rows × 6 columns</p>\n",
              "</div>"
            ],
            "text/plain": [
              "      amount_tsh  gps_height      latitude  longitude  num_private  population\n",
              "0          250.0      1409.0 -4.422470e+00  29.936235          0.0       370.0\n",
              "1            0.0       436.0 -1.055015e+01  34.607098          0.0       160.0\n",
              "2            0.0         0.0 -2.000000e-08   0.000000          0.0         0.0\n",
              "3            0.0       991.0 -5.106162e+00  30.394823          0.0       550.0\n",
              "4            0.0         0.0 -9.064479e+00  33.002953          0.0         0.0\n",
              "...          ...         ...           ...        ...          ...         ...\n",
              "8629       500.0      1428.0 -8.947388e+00  34.597312          0.0       250.0\n",
              "8630         0.0         0.0 -6.687545e+00  36.552113          0.0         0.0\n",
              "8631         0.0         0.0 -3.430887e+00  33.517984          0.0         0.0\n",
              "8632         0.0      1417.0 -3.079985e+00  36.748423          0.0       150.0\n",
              "8633         0.0      1021.0 -4.158500e+00  37.823783          0.0        12.0\n",
              "\n",
              "[8634 rows x 6 columns]"
            ]
          },
          "metadata": {
            "tags": []
          },
          "execution_count": 123
        }
      ]
    },
    {
      "cell_type": "code",
      "metadata": {
        "colab": {
          "base_uri": "https://localhost:8080/"
        },
        "id": "ApMth6Zee4Ab",
        "outputId": "7e038049-c6e6-47fe-f550-1de7282ca990"
      },
      "source": [
        "Y"
      ],
      "execution_count": null,
      "outputs": [
        {
          "output_type": "execute_result",
          "data": {
            "text/plain": [
              "0       functional needs repair\n",
              "1       functional needs repair\n",
              "2       functional needs repair\n",
              "3       functional needs repair\n",
              "4                        others\n",
              "                 ...           \n",
              "8629    functional needs repair\n",
              "8630                     others\n",
              "8631                     others\n",
              "8632    functional needs repair\n",
              "8633                     others\n",
              "Name: status_group, Length: 8634, dtype: object"
            ]
          },
          "metadata": {
            "tags": []
          },
          "execution_count": 124
        }
      ]
    },
    {
      "cell_type": "code",
      "metadata": {
        "id": "3CPeaHAxaFly"
      },
      "source": [
        "#Import libraries for our model\n",
        "import pandas\n",
        "from keras.models import Sequential\n",
        "from keras.layers import Dense\n",
        "from keras.wrappers.scikit_learn import KerasClassifier\n",
        "from sklearn.model_selection import cross_val_score\n",
        "from sklearn.preprocessing import LabelEncoder\n",
        "from sklearn.model_selection import StratifiedKFold\n",
        "from sklearn.preprocessing import StandardScaler\n",
        "from sklearn.pipeline import Pipeline"
      ],
      "execution_count": null,
      "outputs": []
    },
    {
      "cell_type": "code",
      "metadata": {
        "id": "FCoPtJpyeQqi"
      },
      "source": [
        "#Encode class values as integers\n",
        "encoder = LabelEncoder()\n",
        "encoder.fit(Y)\n",
        "encoded_Y = encoder.transform(Y)"
      ],
      "execution_count": null,
      "outputs": []
    },
    {
      "cell_type": "code",
      "metadata": {
        "colab": {
          "base_uri": "https://localhost:8080/"
        },
        "id": "vY3GwTbUwhOR",
        "outputId": "affae32c-7144-4042-d68c-3415b0bdabd3"
      },
      "source": [
        "encoded_Y"
      ],
      "execution_count": null,
      "outputs": [
        {
          "output_type": "execute_result",
          "data": {
            "text/plain": [
              "array([0, 0, 0, ..., 1, 0, 1])"
            ]
          },
          "metadata": {
            "tags": []
          },
          "execution_count": 127
        }
      ]
    },
    {
      "cell_type": "code",
      "metadata": {
        "id": "n9HQhpCp0bDG"
      },
      "source": [
        "#baseline model\n",
        "def create_baseline():\n",
        "  #Create a model\n",
        "  model = Sequential()\n",
        "  model.add(Dense(60, input_dim=60, activation='relu'))\n",
        "  model.add(Dense(1, activation='sigmoid'))\n",
        "  #Compile model\n",
        "  model.compile(loss='binary_crossentropy', optimizer='adam', metrics=['accuracy'])\n",
        "  return model"
      ],
      "execution_count": null,
      "outputs": []
    },
    {
      "cell_type": "code",
      "metadata": {
        "id": "HJFZSnljmybg"
      },
      "source": [
        "X_train = X[:ntrain]\n",
        "Y_train = encoded_Y[:ntrain]"
      ],
      "execution_count": null,
      "outputs": []
    },
    {
      "cell_type": "code",
      "metadata": {
        "colab": {
          "base_uri": "https://localhost:8080/"
        },
        "id": "da6T3DKOnINE",
        "outputId": "00ae9831-2bf2-4bbb-eaf1-34ab7299c88a"
      },
      "source": [
        "X_train.shape, Y_train.shape"
      ],
      "execution_count": null,
      "outputs": [
        {
          "output_type": "execute_result",
          "data": {
            "text/plain": [
              "((6907, 6), (6907,))"
            ]
          },
          "metadata": {
            "tags": []
          },
          "execution_count": 130
        }
      ]
    },
    {
      "cell_type": "code",
      "metadata": {
        "colab": {
          "base_uri": "https://localhost:8080/"
        },
        "id": "8dG_aga-oO3o",
        "outputId": "978ff2bf-26db-421c-e67f-9fa3b5125218"
      },
      "source": [
        "Y_train.mean()"
      ],
      "execution_count": null,
      "outputs": [
        {
          "output_type": "execute_result",
          "data": {
            "text/plain": [
              "0.5018097582163022"
            ]
          },
          "metadata": {
            "tags": []
          },
          "execution_count": 131
        }
      ]
    },
    {
      "cell_type": "code",
      "metadata": {
        "colab": {
          "base_uri": "https://localhost:8080/",
          "height": 404
        },
        "id": "Z_izXDE2rPlb",
        "outputId": "e057c33d-b075-4f9c-e569-56a67196314e"
      },
      "source": [
        "#Check distribution of targets\n",
        "plt.figure(figsize=(7, 6))\n",
        "sns.countplot(combined_df.status_group)\n",
        "plt.title('Target Variable Distribution');"
      ],
      "execution_count": null,
      "outputs": [
        {
          "output_type": "display_data",
          "data": {
            "image/png": "[encoded data removed]",
            "text/plain": [
              "<Figure size 504x432 with 1 Axes>"
            ]
          },
          "metadata": {
            "tags": [],
            "needs_background": "light"
          }
        }
      ]
    },
    {
      "cell_type": "code",
      "metadata": {
        "id": "iPJcFW8ukRTN",
        "colab": {
          "base_uri": "https://localhost:8080/"
        },
        "outputId": "5ed6bd03-427b-4e24-fd86-83956fb33041"
      },
      "source": [
        "#evaluate the model\n",
        "estimator = KerasClassifier(build_fn=create_baseline, epochs=100, batch_size=5, verbose=1)\n",
        "kfold = StratifiedKFold(n_splits=10, shuffle=True)\n",
        "results = cross_val_score(estimator, X_train,  Y_train, cv=kfold)\n",
        "print(\"Baseline: %.2f%% (%.2f%%)\" % (results.mean()*100, results.std()*100))"
      ],
      "execution_count": null,
      "outputs": [
        {
          "output_type": "stream",
          "text": [
            "Epoch 1/100\n",
            "Epoch 1/100\n",
            "Epoch 1/100\n",
            "Epoch 1/100\n",
            "Epoch 1/100\n",
            "Epoch 1/100\n",
            "Epoch 1/100\n",
            "Epoch 1/100\n",
            "Epoch 1/100\n",
            "Epoch 1/100\n",
            "Baseline: nan% (nan%)\n"
          ],
          "name": "stdout"
        }
      ]
    },
    {
      "cell_type": "code",
      "metadata": {
        "colab": {
          "base_uri": "https://localhost:8080/"
        },
        "id": "nz0o8Su9n9X_",
        "outputId": "1793a860-0413-4119-e518-d1c3031d5918"
      },
      "source": [
        "#evaluate baseline model with standardized data\n",
        "estimators = []\n",
        "estimators.append(('standardize', StandardScaler()))\n",
        "estimators.append(('mlp', KerasClassifier(build_fn=create_baseline, epochs=100, batch_size=5, verbose=1)))\n",
        "pipeline = Pipeline(estimators)\n",
        "kfold = StratifiedKFold(n_splits=10, shuffle=True)\n",
        "results = cross_val_score(pipeline, X_train, Y_train, cv=kfold)\n",
        "print(results.mean())\n",
        "print(\"Standardize: %.2f%% (%.2f%%)\" %(results.mean()*100, results.std()*100))"
      ],
      "execution_count": null,
      "outputs": [
        {
          "output_type": "stream",
          "text": [
            "Epoch 1/100\n",
            "Epoch 1/100\n",
            "Epoch 1/100\n",
            "Epoch 1/100\n",
            "Epoch 1/100\n",
            "Epoch 1/100\n",
            "Epoch 1/100\n",
            "Epoch 1/100\n",
            "Epoch 1/100\n",
            "Epoch 1/100\n",
            "nan\n",
            "Standardize: nan% (nan%)\n"
          ],
          "name": "stdout"
        }
      ]
    },
    {
      "cell_type": "code",
      "metadata": {
        "id": "xIsNCAKityQC"
      },
      "source": [
        ""
      ],
      "execution_count": null,
      "outputs": []
    }
  ]
}